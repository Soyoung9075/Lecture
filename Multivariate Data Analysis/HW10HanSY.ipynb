{
 "cells": [
  {
   "cell_type": "code",
   "execution_count": 1,
   "metadata": {},
   "outputs": [],
   "source": [
    "import numpy as np\n",
    "import pandas as pd\n",
    "import matplotlib.pyplot as plt"
   ]
  },
  {
   "cell_type": "markdown",
   "metadata": {},
   "source": [
    "## 1. Write a Python code to calculate the linear discriminant function for binary class. Your code should be able to predict the Y class based on the input value 𝑋! (in the lecture note page 9)."
   ]
  },
  {
   "cell_type": "code",
   "execution_count": 2,
   "metadata": {},
   "outputs": [],
   "source": [
    " def LDA(data, class_col_name, p1, p2, group1, group2, X_new) :\n",
    "    \n",
    "    cat_list = data[class_col_name].tolist()\n",
    "    X1 = data.iloc[np.where(np.array(cat_list) == group1)[0], 2:]\n",
    "    X2 = data.iloc[np.where(np.array(cat_list) == group2)[0], 2:]\n",
    "    \n",
    "    n1 = len(X1)\n",
    "    n2 = len(X2)\n",
    "\n",
    "    mean_1 = X1.mean()\n",
    "    mean_2 = X2.mean()\n",
    "    s_1 = X1.cov()\n",
    "    s_2 = X2.cov()\n",
    "    s_p = ((n1-1) / (n1+n2-2)) * s_1 + ((n2-1) / (n1+n2-2)) * s_2\n",
    "\n",
    "    a = (mean_1 - mean_2) @ np.linalg.inv(s_p)\n",
    "    ldf = a @ X_new - (1/2)*(a @ mean_1 + a @ mean_2)\n",
    "    prior = np.log(p2/p1)\n",
    "\n",
    "    if ldf >= prior:\n",
    "        result = group1\n",
    "    else :\n",
    "        result = group2\n",
    "        \n",
    "    return ldf, prior, result\n"
   ]
  },
  {
   "cell_type": "markdown",
   "metadata": {},
   "source": [
    "## 2. Write a Python code to perform the ‘leave-one-out’ method to calculate the accuracy of the LDA model you wrote in #1."
   ]
  },
  {
   "cell_type": "code",
   "execution_count": 3,
   "metadata": {},
   "outputs": [],
   "source": [
    "def leave_one_out(data, class_col_name, p1, p2, group1, group2):\n",
    "    y_pred_list = []\n",
    "\n",
    "    for i in range(len(data)):\n",
    "        Test = data.drop(data.index[i])\n",
    "        drop_row = data.iloc[i,2:]\n",
    "        y_pred = LDA(Test, class_col_name, p1, p2, group1, group2,drop_row)[2]\n",
    "        y_pred_list.append(y_pred)\n",
    "        \n",
    "    data['y_pred']  = y_pred_list\n",
    "    n = len(data)\n",
    "    correct_pred = len(data[data[class_col_name] == data['y_pred']])\n",
    "    accuracy = correct_pred / n\n",
    "    return accuracy"
   ]
  },
  {
   "cell_type": "markdown",
   "metadata": {},
   "source": [
    "## 3. "
   ]
  },
  {
   "cell_type": "code",
   "execution_count": 4,
   "metadata": {},
   "outputs": [
    {
     "data": {
      "text/html": [
       "<div>\n",
       "<style scoped>\n",
       "    .dataframe tbody tr th:only-of-type {\n",
       "        vertical-align: middle;\n",
       "    }\n",
       "\n",
       "    .dataframe tbody tr th {\n",
       "        vertical-align: top;\n",
       "    }\n",
       "\n",
       "    .dataframe thead th {\n",
       "        text-align: right;\n",
       "    }\n",
       "</style>\n",
       "<table border=\"1\" class=\"dataframe\">\n",
       "  <thead>\n",
       "    <tr style=\"text-align: right;\">\n",
       "      <th></th>\n",
       "      <th>ID</th>\n",
       "      <th>SEX</th>\n",
       "      <th>TYPE</th>\n",
       "      <th>WGT</th>\n",
       "      <th>HUM</th>\n",
       "      <th>RAD</th>\n",
       "      <th>ULN</th>\n",
       "      <th>FEMUR</th>\n",
       "      <th>TIB</th>\n",
       "      <th>TIN</th>\n",
       "      <th>CAR</th>\n",
       "      <th>D3P</th>\n",
       "      <th>STL</th>\n",
       "      <th>STB</th>\n",
       "      <th>COR</th>\n",
       "      <th>PEL</th>\n",
       "      <th>MAX</th>\n",
       "      <th>MIN</th>\n",
       "      <th>SCA</th>\n",
       "    </tr>\n",
       "  </thead>\n",
       "  <tbody>\n",
       "    <tr>\n",
       "      <th>0</th>\n",
       "      <td>K766</td>\n",
       "      <td>MALE</td>\n",
       "      <td>WILD</td>\n",
       "      <td>.</td>\n",
       "      <td>.</td>\n",
       "      <td>.</td>\n",
       "      <td>.</td>\n",
       "      <td>.</td>\n",
       "      <td>.</td>\n",
       "      <td>.</td>\n",
       "      <td>.</td>\n",
       "      <td>.</td>\n",
       "      <td>.</td>\n",
       "      <td>.</td>\n",
       "      <td>.</td>\n",
       "      <td>.</td>\n",
       "      <td>142</td>\n",
       "      <td>107</td>\n",
       "      <td>.</td>\n",
       "    </tr>\n",
       "    <tr>\n",
       "      <th>1</th>\n",
       "      <td>N399</td>\n",
       "      <td>MALE</td>\n",
       "      <td>WILD</td>\n",
       "      <td>.</td>\n",
       "      <td>153</td>\n",
       "      <td>138</td>\n",
       "      <td>153</td>\n",
       "      <td>139</td>\n",
       "      <td>246</td>\n",
       "      <td>162</td>\n",
       "      <td>810</td>\n",
       "      <td>307</td>\n",
       "      <td>196</td>\n",
       "      <td>74</td>\n",
       "      <td>.</td>\n",
       "      <td>.</td>\n",
       "      <td>145</td>\n",
       "      <td>104</td>\n",
       "      <td>.</td>\n",
       "    </tr>\n",
       "    <tr>\n",
       "      <th>2</th>\n",
       "      <td>NEX1</td>\n",
       "      <td>MALE</td>\n",
       "      <td>WILD</td>\n",
       "      <td>.</td>\n",
       "      <td>.</td>\n",
       "      <td>.</td>\n",
       "      <td>.</td>\n",
       "      <td>.</td>\n",
       "      <td>.</td>\n",
       "      <td>.</td>\n",
       "      <td>.</td>\n",
       "      <td>.</td>\n",
       "      <td>224</td>\n",
       "      <td>72</td>\n",
       "      <td>.</td>\n",
       "      <td>.</td>\n",
       "      <td>.</td>\n",
       "      <td>.</td>\n",
       "      <td>.</td>\n",
       "    </tr>\n",
       "    <tr>\n",
       "      <th>3</th>\n",
       "      <td>NEX2</td>\n",
       "      <td>MALE</td>\n",
       "      <td>WILD</td>\n",
       "      <td>.</td>\n",
       "      <td>.</td>\n",
       "      <td>.</td>\n",
       "      <td>.</td>\n",
       "      <td>.</td>\n",
       "      <td>.</td>\n",
       "      <td>.</td>\n",
       "      <td>.</td>\n",
       "      <td>.</td>\n",
       "      <td>220</td>\n",
       "      <td>74</td>\n",
       "      <td>.</td>\n",
       "      <td>.</td>\n",
       "      <td>.</td>\n",
       "      <td>.</td>\n",
       "      <td>.</td>\n",
       "    </tr>\n",
       "    <tr>\n",
       "      <th>4</th>\n",
       "      <td>NEX3</td>\n",
       "      <td>MALE</td>\n",
       "      <td>WILD</td>\n",
       "      <td>.</td>\n",
       "      <td>.</td>\n",
       "      <td>.</td>\n",
       "      <td>.</td>\n",
       "      <td>.</td>\n",
       "      <td>.</td>\n",
       "      <td>.</td>\n",
       "      <td>.</td>\n",
       "      <td>.</td>\n",
       "      <td>228</td>\n",
       "      <td>78</td>\n",
       "      <td>.</td>\n",
       "      <td>.</td>\n",
       "      <td>.</td>\n",
       "      <td>.</td>\n",
       "      <td>.</td>\n",
       "    </tr>\n",
       "  </tbody>\n",
       "</table>\n",
       "</div>"
      ],
      "text/plain": [
       "     ID   SEX  TYPE WGT  HUM  RAD  ULN FEMUR  TIB  TIN  CAR  D3P  STL STB COR  \\\n",
       "0  K766  MALE  WILD   .    .    .    .     .    .    .    .    .    .   .   .   \n",
       "1  N399  MALE  WILD   .  153  138  153   139  246  162  810  307  196  74   .   \n",
       "2  NEX1  MALE  WILD   .    .    .    .     .    .    .    .    .  224  72   .   \n",
       "3  NEX2  MALE  WILD   .    .    .    .     .    .    .    .    .  220  74   .   \n",
       "4  NEX3  MALE  WILD   .    .    .    .     .    .    .    .    .  228  78   .   \n",
       "\n",
       "  PEL  MAX  MIN SCA  \n",
       "0   .  142  107   .  \n",
       "1   .  145  104   .  \n",
       "2   .    .    .   .  \n",
       "3   .    .    .   .  \n",
       "4   .    .    .   .  "
      ]
     },
     "execution_count": 4,
     "metadata": {},
     "output_type": "execute_result"
    }
   ],
   "source": [
    "# 데이터 불러오기\n",
    "\n",
    "turkey = pd.read_csv('turkey.dat', delim_whitespace=True)\n",
    "turkey.head()"
   ]
  },
  {
   "cell_type": "code",
   "execution_count": 5,
   "metadata": {},
   "outputs": [
    {
     "data": {
      "text/html": [
       "<div>\n",
       "<style scoped>\n",
       "    .dataframe tbody tr th:only-of-type {\n",
       "        vertical-align: middle;\n",
       "    }\n",
       "\n",
       "    .dataframe tbody tr th {\n",
       "        vertical-align: top;\n",
       "    }\n",
       "\n",
       "    .dataframe thead th {\n",
       "        text-align: right;\n",
       "    }\n",
       "</style>\n",
       "<table border=\"1\" class=\"dataframe\">\n",
       "  <thead>\n",
       "    <tr style=\"text-align: right;\">\n",
       "      <th></th>\n",
       "      <th>ID</th>\n",
       "      <th>TYPE</th>\n",
       "      <th>HUM</th>\n",
       "      <th>RAD</th>\n",
       "      <th>ULN</th>\n",
       "      <th>FEMUR</th>\n",
       "      <th>TIN</th>\n",
       "      <th>CAR</th>\n",
       "      <th>D3P</th>\n",
       "      <th>COR</th>\n",
       "      <th>SCA</th>\n",
       "    </tr>\n",
       "  </thead>\n",
       "  <tbody>\n",
       "    <tr>\n",
       "      <th>0</th>\n",
       "      <td>B710</td>\n",
       "      <td>WILD</td>\n",
       "      <td>153</td>\n",
       "      <td>140</td>\n",
       "      <td>147</td>\n",
       "      <td>142</td>\n",
       "      <td>151</td>\n",
       "      <td>817</td>\n",
       "      <td>305</td>\n",
       "      <td>102</td>\n",
       "      <td>128</td>\n",
       "    </tr>\n",
       "    <tr>\n",
       "      <th>1</th>\n",
       "      <td>B790</td>\n",
       "      <td>WILD</td>\n",
       "      <td>156</td>\n",
       "      <td>137</td>\n",
       "      <td>151</td>\n",
       "      <td>146</td>\n",
       "      <td>155</td>\n",
       "      <td>814</td>\n",
       "      <td>305</td>\n",
       "      <td>111</td>\n",
       "      <td>137</td>\n",
       "    </tr>\n",
       "    <tr>\n",
       "      <th>2</th>\n",
       "      <td>B819</td>\n",
       "      <td>WILD</td>\n",
       "      <td>158</td>\n",
       "      <td>135</td>\n",
       "      <td>151</td>\n",
       "      <td>146</td>\n",
       "      <td>152</td>\n",
       "      <td>790</td>\n",
       "      <td>289</td>\n",
       "      <td>111</td>\n",
       "      <td>125</td>\n",
       "    </tr>\n",
       "    <tr>\n",
       "      <th>3</th>\n",
       "      <td>B085</td>\n",
       "      <td>WILD</td>\n",
       "      <td>148</td>\n",
       "      <td>129</td>\n",
       "      <td>146</td>\n",
       "      <td>139</td>\n",
       "      <td>147</td>\n",
       "      <td>767</td>\n",
       "      <td>287</td>\n",
       "      <td>106</td>\n",
       "      <td>123</td>\n",
       "    </tr>\n",
       "    <tr>\n",
       "      <th>4</th>\n",
       "      <td>B089</td>\n",
       "      <td>WILD</td>\n",
       "      <td>157</td>\n",
       "      <td>140</td>\n",
       "      <td>154</td>\n",
       "      <td>140</td>\n",
       "      <td>159</td>\n",
       "      <td>818</td>\n",
       "      <td>301</td>\n",
       "      <td>116</td>\n",
       "      <td>136</td>\n",
       "    </tr>\n",
       "  </tbody>\n",
       "</table>\n",
       "</div>"
      ],
      "text/plain": [
       "     ID  TYPE  HUM  RAD  ULN  FEMUR  TIN  CAR  D3P  COR  SCA\n",
       "0  B710  WILD  153  140  147    142  151  817  305  102  128\n",
       "1  B790  WILD  156  137  151    146  155  814  305  111  137\n",
       "2  B819  WILD  158  135  151    146  152  790  289  111  125\n",
       "3  B085  WILD  148  129  146    139  147  767  287  106  123\n",
       "4  B089  WILD  157  140  154    140  159  818  301  116  136"
      ]
     },
     "execution_count": 5,
     "metadata": {},
     "output_type": "execute_result"
    }
   ],
   "source": [
    "# 분석용 버전으로 가공하기\n",
    "\n",
    "turkey1 = turkey.loc[turkey['SEX'] == 'MALE',\n",
    "    ['ID','TYPE','HUM','RAD','ULN','FEMUR','TIN','CAR','D3P','COR','SCA']]\n",
    "turkey1 = turkey1.replace('.',np.nan).dropna().reset_index(drop=True)\n",
    "\n",
    "turkey1_obj = turkey1.iloc[:,0:2]\n",
    "turkey1_int = turkey1.iloc[:,2:].astype(int)\n",
    "turkey1 = pd.concat([turkey1_obj, turkey1_int], axis = 1)\n",
    "turkey1.head()"
   ]
  },
  {
   "cell_type": "markdown",
   "metadata": {},
   "source": [
    "### a. Which turkeys in this data set were misclassified by the discriminant rule when the rule was applied to the training data?"
   ]
  },
  {
   "cell_type": "code",
   "execution_count": 6,
   "metadata": {},
   "outputs": [
    {
     "data": {
      "text/html": [
       "<div>\n",
       "<style scoped>\n",
       "    .dataframe tbody tr th:only-of-type {\n",
       "        vertical-align: middle;\n",
       "    }\n",
       "\n",
       "    .dataframe tbody tr th {\n",
       "        vertical-align: top;\n",
       "    }\n",
       "\n",
       "    .dataframe thead th {\n",
       "        text-align: right;\n",
       "    }\n",
       "</style>\n",
       "<table border=\"1\" class=\"dataframe\">\n",
       "  <thead>\n",
       "    <tr style=\"text-align: right;\">\n",
       "      <th></th>\n",
       "      <th>ID</th>\n",
       "      <th>TYPE</th>\n",
       "      <th>HUM</th>\n",
       "      <th>RAD</th>\n",
       "      <th>ULN</th>\n",
       "      <th>FEMUR</th>\n",
       "      <th>TIN</th>\n",
       "      <th>CAR</th>\n",
       "      <th>D3P</th>\n",
       "      <th>COR</th>\n",
       "      <th>SCA</th>\n",
       "      <th>y_pred</th>\n",
       "    </tr>\n",
       "  </thead>\n",
       "  <tbody>\n",
       "    <tr>\n",
       "      <th>0</th>\n",
       "      <td>B710</td>\n",
       "      <td>WILD</td>\n",
       "      <td>153</td>\n",
       "      <td>140</td>\n",
       "      <td>147</td>\n",
       "      <td>142</td>\n",
       "      <td>151</td>\n",
       "      <td>817</td>\n",
       "      <td>305</td>\n",
       "      <td>102</td>\n",
       "      <td>128</td>\n",
       "      <td>DOMESTIC</td>\n",
       "    </tr>\n",
       "    <tr>\n",
       "      <th>24</th>\n",
       "      <td>L750</td>\n",
       "      <td>DOMESTIC</td>\n",
       "      <td>149</td>\n",
       "      <td>130</td>\n",
       "      <td>147</td>\n",
       "      <td>140</td>\n",
       "      <td>147</td>\n",
       "      <td>770</td>\n",
       "      <td>300</td>\n",
       "      <td>104</td>\n",
       "      <td>126</td>\n",
       "      <td>WILD</td>\n",
       "    </tr>\n",
       "  </tbody>\n",
       "</table>\n",
       "</div>"
      ],
      "text/plain": [
       "      ID      TYPE  HUM  RAD  ULN  FEMUR  TIN  CAR  D3P  COR  SCA    y_pred\n",
       "0   B710      WILD  153  140  147    142  151  817  305  102  128  DOMESTIC\n",
       "24  L750  DOMESTIC  149  130  147    140  147  770  300  104  126      WILD"
      ]
     },
     "execution_count": 6,
     "metadata": {},
     "output_type": "execute_result"
    }
   ],
   "source": [
    "y_pred = []\n",
    "for i in range(len(turkey1)):\n",
    "    y_pred.append(LDA(turkey1, 'TYPE', 0.4, 0.6, 'WILD', 'DOMESTIC', turkey1.iloc[i, 2:])[2])\n",
    "turkey_pred = pd.DataFrame()\n",
    "turkey_pred['y_pred']  = y_pred\n",
    "turkey_concat = pd.concat([turkey1, turkey_pred], axis = 1)\n",
    "turkey_concat.loc[turkey_concat['TYPE'] != turkey_concat['y_pred']]"
   ]
  },
  {
   "cell_type": "markdown",
   "metadata": {},
   "source": [
    "### b. What are the posterior probabilities for both domestic and wild classifications for those turkeys that were misclassified in (a)?"
   ]
  },
  {
   "cell_type": "code",
   "execution_count": 7,
   "metadata": {},
   "outputs": [],
   "source": [
    "# 특정 ID에 대한 posterior probability 계산하는 함수 작성\n",
    "\n",
    "def posterior(ID): \n",
    "\n",
    "    cat_list = turkey1['TYPE'].tolist()\n",
    "    X1 = turkey1.iloc[np.where(np.array(cat_list) == 'WILD')[0], 2:]\n",
    "    X2 = turkey1.iloc[np.where(np.array(cat_list) == 'DOMESTIC')[0], 2:]\n",
    "\n",
    "    n1 = len(X1)\n",
    "    n2 = len(X2)\n",
    "\n",
    "    u1 = X1.mean()\n",
    "    u2 = X2.mean()\n",
    "\n",
    "    s_1 = X1.cov()\n",
    "    s_2 = X2.cov()\n",
    "    s_p = ((n1-1) / (n1+n2-2)) * s_1 + ((n2-1) / (n1+n2-2)) * s_2\n",
    "\n",
    "    X_new = turkey1.iloc[np.where(turkey1['ID'] == ID)[0], 2:]\n",
    "\n",
    "    f1 = np.exp(-1/2 * (np.array(X_new - u1) @ np.linalg.inv(s_p) @ np.array(X_new - u1).T))[0,0]\n",
    "    f2 = np.exp(-1/2 * (np.array(X_new - u2) @ np.linalg.inv(s_p) @ np.array(X_new - u2).T))[0,0]\n",
    "    \n",
    "    pos_wild = f1 / (f1 + f2)\n",
    "    pos_domestic = f2 / (f1 + f2)\n",
    "    \n",
    "    return pos_wild, pos_domestic"
   ]
  },
  {
   "cell_type": "code",
   "execution_count": 8,
   "metadata": {},
   "outputs": [
    {
     "name": "stdout",
     "output_type": "stream",
     "text": [
      "ID B710 : posterior for wild = 0.4337557044636779 , posterior for domestic = 0.5662442955363222\n",
      "ID L750 : posterior for wild = 0.8066042300946215 , posterior for domestic = 0.1933957699053785\n"
     ]
    }
   ],
   "source": [
    "print(\"ID B710 : posterior for wild = {} , posterior for domestic = {}\".format(posterior('B710')[0], posterior('B710')[1]))\n",
    "print(\"ID L750 : posterior for wild = {} , posterior for domestic = {}\".format(posterior('L750')[0], posterior('L750')[1]))"
   ]
  },
  {
   "cell_type": "markdown",
   "metadata": {},
   "source": [
    "### c. Determine the value of each of the linear discriminant function for turkeys whose IDs are B710 and L674. How do you classify these two turkeys?"
   ]
  },
  {
   "cell_type": "code",
   "execution_count": 9,
   "metadata": {},
   "outputs": [
    {
     "data": {
      "text/plain": [
       "(-0.26654411996259064, 0.4054651081081642, 'DOMESTIC')"
      ]
     },
     "execution_count": 9,
     "metadata": {},
     "output_type": "execute_result"
    }
   ],
   "source": [
    "# ID B710\n",
    "\n",
    "LDA(turkey1, 'TYPE', 0.4, 0.6, 'WILD', 'DOMESTIC', turkey1.iloc[0, 2:])"
   ]
  },
  {
   "cell_type": "code",
   "execution_count": 10,
   "metadata": {},
   "outputs": [
    {
     "data": {
      "text/plain": [
       "(-8.859415781653924, 0.4054651081081642, 'DOMESTIC')"
      ]
     },
     "execution_count": 10,
     "metadata": {},
     "output_type": "execute_result"
    }
   ],
   "source": [
    "# ID L674\n",
    "\n",
    "LDA(turkey1, 'TYPE', 0.4, 0.6, 'WILD', 'DOMESTIC', turkey1.iloc[14, 2:])"
   ]
  },
  {
   "cell_type": "markdown",
   "metadata": {},
   "source": [
    "### d. Calculate the ‘leave-one-out’ accuracy of the LDA model."
   ]
  },
  {
   "cell_type": "code",
   "execution_count": 11,
   "metadata": {},
   "outputs": [
    {
     "data": {
      "text/plain": [
       "0.8484848484848485"
      ]
     },
     "execution_count": 11,
     "metadata": {},
     "output_type": "execute_result"
    }
   ],
   "source": [
    "leave_one_out(turkey1, 'TYPE', 0.4, 0.6, 'WILD', 'DOMESTIC')"
   ]
  }
 ],
 "metadata": {
  "kernelspec": {
   "display_name": "Python 3",
   "language": "python",
   "name": "python3"
  },
  "language_info": {
   "codemirror_mode": {
    "name": "ipython",
    "version": 3
   },
   "file_extension": ".py",
   "mimetype": "text/x-python",
   "name": "python",
   "nbconvert_exporter": "python",
   "pygments_lexer": "ipython3",
   "version": "3.8.3"
  }
 },
 "nbformat": 4,
 "nbformat_minor": 4
}
