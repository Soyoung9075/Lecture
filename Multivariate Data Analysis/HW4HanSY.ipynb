{
 "cells": [
  {
   "cell_type": "code",
   "execution_count": 1,
   "metadata": {},
   "outputs": [],
   "source": [
    "import numpy as np\n",
    "import pandas as pd\n",
    "from scipy.stats import f"
   ]
  },
  {
   "cell_type": "markdown",
   "metadata": {},
   "source": [
    "## 1. Write a Python code to implement Hotelling’s T2 test of a mean vector. (For p-value calculation, python package can be used)."
   ]
  },
  {
   "cell_type": "code",
   "execution_count": 2,
   "metadata": {},
   "outputs": [],
   "source": [
    "def hotelling_t_test(data, u0, alpha):  # u0 : null hypothesis  / # alpha : significance level\n",
    "    \n",
    "    # Calculate Hotelling's T square and Test statisitc\n",
    "    n = len(data)\n",
    "    p = len(data.columns)\n",
    "    sample_mean_v = data.mean()\n",
    "    mean_diff = sample_mean_v - u0\n",
    "    cov_v = data.cov()\n",
    "    cov_inv = np.linalg.inv(cov_v)\n",
    "    T_square = len(data) * (mean_diff.T @ cov_inv @ mean_diff)\n",
    "    Test_stat = T_square * ((n-p) / ((n-1)*p))\n",
    "    \n",
    "    # Calculate critical region\n",
    "    c_region = f.ppf(1-alpha, p, n-p, loc=0, scale=1)\n",
    "    \n",
    "    # p-value\n",
    "    p_value = f.sf(Test_stat, p, n-p)\n",
    "    \n",
    "    # Hypothesis Testing\n",
    "    if Test_stat > c_region :\n",
    "        print(\"Test Statistic = {:.3f}\".format(Test_stat))\n",
    "        print(\"p-value = {}\".format(p_value))\n",
    "        print(\"Hotelling's T^2 = {:.3f}\".format(T_square))\n",
    "        print(\"Reject the null hypothesis\")\n",
    "    else :\n",
    "        print(\"Test Statistic = {:.3f}\".format(Test_stat))\n",
    "        print(\"p-value = {}\".format(p_value))\n",
    "        print(\"Hotelling's T^2 = {:.3f}\".format(T_square))\n",
    "        print(\"Do not reject the null hypothesis\")\n"
   ]
  },
  {
   "cell_type": "markdown",
   "metadata": {},
   "source": [
    "## 2. Using the data ‘college.dat’ (described in Table 5.2 of the textbook)"
   ]
  },
  {
   "cell_type": "code",
   "execution_count": 3,
   "metadata": {},
   "outputs": [
    {
     "data": {
      "text/html": [
       "<div>\n",
       "<style scoped>\n",
       "    .dataframe tbody tr th:only-of-type {\n",
       "        vertical-align: middle;\n",
       "    }\n",
       "\n",
       "    .dataframe tbody tr th {\n",
       "        vertical-align: top;\n",
       "    }\n",
       "\n",
       "    .dataframe thead th {\n",
       "        text-align: right;\n",
       "    }\n",
       "</style>\n",
       "<table border=\"1\" class=\"dataframe\">\n",
       "  <thead>\n",
       "    <tr style=\"text-align: right;\">\n",
       "      <th></th>\n",
       "      <th>social</th>\n",
       "      <th>verbal</th>\n",
       "      <th>science</th>\n",
       "    </tr>\n",
       "  </thead>\n",
       "  <tbody>\n",
       "    <tr>\n",
       "      <th>0</th>\n",
       "      <td>468</td>\n",
       "      <td>41</td>\n",
       "      <td>26</td>\n",
       "    </tr>\n",
       "    <tr>\n",
       "      <th>1</th>\n",
       "      <td>428</td>\n",
       "      <td>39</td>\n",
       "      <td>26</td>\n",
       "    </tr>\n",
       "    <tr>\n",
       "      <th>2</th>\n",
       "      <td>514</td>\n",
       "      <td>53</td>\n",
       "      <td>21</td>\n",
       "    </tr>\n",
       "    <tr>\n",
       "      <th>3</th>\n",
       "      <td>547</td>\n",
       "      <td>67</td>\n",
       "      <td>33</td>\n",
       "    </tr>\n",
       "    <tr>\n",
       "      <th>4</th>\n",
       "      <td>614</td>\n",
       "      <td>61</td>\n",
       "      <td>27</td>\n",
       "    </tr>\n",
       "    <tr>\n",
       "      <th>...</th>\n",
       "      <td>...</td>\n",
       "      <td>...</td>\n",
       "      <td>...</td>\n",
       "    </tr>\n",
       "    <tr>\n",
       "      <th>82</th>\n",
       "      <td>614</td>\n",
       "      <td>70</td>\n",
       "      <td>23</td>\n",
       "    </tr>\n",
       "    <tr>\n",
       "      <th>83</th>\n",
       "      <td>527</td>\n",
       "      <td>49</td>\n",
       "      <td>30</td>\n",
       "    </tr>\n",
       "    <tr>\n",
       "      <th>84</th>\n",
       "      <td>474</td>\n",
       "      <td>41</td>\n",
       "      <td>16</td>\n",
       "    </tr>\n",
       "    <tr>\n",
       "      <th>85</th>\n",
       "      <td>441</td>\n",
       "      <td>47</td>\n",
       "      <td>26</td>\n",
       "    </tr>\n",
       "    <tr>\n",
       "      <th>86</th>\n",
       "      <td>607</td>\n",
       "      <td>67</td>\n",
       "      <td>32</td>\n",
       "    </tr>\n",
       "  </tbody>\n",
       "</table>\n",
       "<p>87 rows × 3 columns</p>\n",
       "</div>"
      ],
      "text/plain": [
       "    social  verbal  science\n",
       "0      468      41       26\n",
       "1      428      39       26\n",
       "2      514      53       21\n",
       "3      547      67       33\n",
       "4      614      61       27\n",
       "..     ...     ...      ...\n",
       "82     614      70       23\n",
       "83     527      49       30\n",
       "84     474      41       16\n",
       "85     441      47       26\n",
       "86     607      67       32\n",
       "\n",
       "[87 rows x 3 columns]"
      ]
     },
     "execution_count": 3,
     "metadata": {},
     "output_type": "execute_result"
    }
   ],
   "source": [
    "# 데이터 불러오기\n",
    "\n",
    "college = pd.read_csv('college.dat', header = None, delim_whitespace = True)\n",
    "college.columns = ['social', 'verbal', 'science']\n",
    "college"
   ]
  },
  {
   "cell_type": "markdown",
   "metadata": {},
   "source": [
    "## 2-a."
   ]
  },
  {
   "cell_type": "code",
   "execution_count": 4,
   "metadata": {},
   "outputs": [
    {
     "name": "stdout",
     "output_type": "stream",
     "text": [
      "Test Statistic = 72.706\n",
      "p-value = 2.8280970624648144e-23\n",
      "Hotelling's T^2 = 223.310\n",
      "Reject the null hypothesis\n"
     ]
    }
   ],
   "source": [
    "# use code in #1\n",
    "\n",
    "u0 = np.array([500,50,30]) # null hypothesis\n",
    "alpha = 0.05\n",
    "hotelling_t_test(college, u0, alpha)"
   ]
  },
  {
   "cell_type": "markdown",
   "metadata": {},
   "source": [
    "## 2-b."
   ]
  },
  {
   "cell_type": "code",
   "execution_count": 5,
   "metadata": {},
   "outputs": [
    {
     "data": {
      "text/plain": [
       "<class 'statsmodels.stats.base.HolderTuple'>\n",
       "statistic = 72.70563859508101\n",
       "pvalue = 2.828097062464791e-23\n",
       "df = (3, 84)\n",
       "t2 = 223.3101756848917\n",
       "distr = 'F'\n",
       "tuple = (72.70563859508101, 2.828097062464791e-23)"
      ]
     },
     "execution_count": 5,
     "metadata": {},
     "output_type": "execute_result"
    }
   ],
   "source": [
    "# use python function\n",
    "\n",
    "from statsmodels.stats import multivariate as mv\n",
    "\n",
    "u0 = np.array([500,50,30]) # null hypothesis\n",
    "Ddf = college - u0\n",
    "mv.test_mvmean(Ddf)"
   ]
  },
  {
   "cell_type": "markdown",
   "metadata": {},
   "source": [
    "## 2-c. Determine the lengths and directions for the axes of the 95% confidence ellipsoid for 𝜇."
   ]
  },
  {
   "cell_type": "code",
   "execution_count": 6,
   "metadata": {},
   "outputs": [
    {
     "name": "stdout",
     "output_type": "stream",
     "text": [
      "Direction for Axes 1 : [-23.5853725   -2.46154906  -0.88530442], [23.5853725   2.46154906  0.88530442]\n",
      "Direction for Axes 2 : [-0.25579154  2.45938874 -0.02368372], [ 0.25579154 -2.45938874  0.02368372]\n",
      "Direction for Axes 3 : [-0.04505214  0.00669323  1.18162262], [ 0.04505214 -0.00669323 -1.18162262]\n",
      "Length of the confidence region : [47.45999510189589, 4.945536654922297, 2.365000216451611]\n"
     ]
    }
   ],
   "source": [
    "# Direction for the axes of the 95% confidence ellipsoid for mu\n",
    "\n",
    "S = college.cov()\n",
    "eigvals, eigvecs = np.linalg.eig(S)\n",
    "\n",
    "n = len(college)\n",
    "p = len(college.columns)\n",
    "F = f.ppf(1-alpha, p, n-p, loc=0, scale=1)\n",
    "axes_pos_list = []\n",
    "axes_neg_list = []\n",
    "length_list = []\n",
    "for i in range(len(college.columns)):\n",
    "    axes_positive = np.sqrt(eigvals[i]) * np.sqrt( (((n-1)*p) / (n*(n-p))) * F ) * eigvecs[i]\n",
    "    axes_negative = - np.sqrt(eigvals[i]) * np.sqrt( (((n-1)*p) / (n*(n-p))) * F ) * eigvecs[i]\n",
    "    length = np.sqrt(eigvals[i]) * np.sqrt( (((n-1)*p) / (n*(n-p))) * F ) * 2\n",
    "    axes_pos_list.append(axes_positive)\n",
    "    axes_neg_list.append(axes_negative)\n",
    "    length_list.append(length)\n",
    "    print(\"Direction for Axes {} : {}, {}\".format(i+1, axes_pos_list[i], axes_neg_list[i]))\n",
    "print(\"Length of the confidence region : {}\".format(length_list))"
   ]
  },
  {
   "cell_type": "markdown",
   "metadata": {},
   "source": [
    "## d. Find the simultaneous confidence interval for 𝜇1 − 2𝜇2 + 𝜇3."
   ]
  },
  {
   "cell_type": "code",
   "execution_count": 7,
   "metadata": {},
   "outputs": [
    {
     "name": "stdout",
     "output_type": "stream",
     "text": [
      "Simultaneous confidence interval : lower = 422.05125244523714, upper = 462.6154142214296\n"
     ]
    }
   ],
   "source": [
    "a = np.array([1, -2, 1])\n",
    "n = len(college)\n",
    "p = len(college.columns)\n",
    "F = f.ppf(1-alpha, p, n-p, loc=0, scale=1)\n",
    "np.sqrt( (((n-1)*p) / (n*(n-p))) * F * (a.T @ S @ a) )\n",
    "\n",
    "lower = a.T @ college.mean() - np.sqrt( (((n-1)*p) / (n*(n-p))) * F * (a.T @ S @ a) )\n",
    "upper = a.T @ college.mean() + np.sqrt( (((n-1)*p) / (n*(n-p))) * F * (a.T @ S @ a) )\n",
    "\n",
    "print(\"Simultaneous confidence interval : lower = {}, upper = {}\".format(lower, upper))"
   ]
  },
  {
   "cell_type": "markdown",
   "metadata": {},
   "source": [
    "## 3. Four measurements of the response stiffness on each of 30 boards are listed in data ‘stiff.dat’ (described in Table 4.3 of the textbook). The measures are repeated in the sense that they were made one after another."
   ]
  },
  {
   "cell_type": "markdown",
   "metadata": {},
   "source": [
    "## a. Find the simultaneous confidence interval for 𝜇1 + 2𝜇2 − 𝜇3 − 2𝜇4."
   ]
  },
  {
   "cell_type": "code",
   "execution_count": 8,
   "metadata": {},
   "outputs": [
    {
     "data": {
      "text/html": [
       "<div>\n",
       "<style scoped>\n",
       "    .dataframe tbody tr th:only-of-type {\n",
       "        vertical-align: middle;\n",
       "    }\n",
       "\n",
       "    .dataframe tbody tr th {\n",
       "        vertical-align: top;\n",
       "    }\n",
       "\n",
       "    .dataframe thead th {\n",
       "        text-align: right;\n",
       "    }\n",
       "</style>\n",
       "<table border=\"1\" class=\"dataframe\">\n",
       "  <thead>\n",
       "    <tr style=\"text-align: right;\">\n",
       "      <th></th>\n",
       "      <th>0</th>\n",
       "      <th>1</th>\n",
       "      <th>2</th>\n",
       "      <th>3</th>\n",
       "    </tr>\n",
       "  </thead>\n",
       "  <tbody>\n",
       "    <tr>\n",
       "      <th>0</th>\n",
       "      <td>1889</td>\n",
       "      <td>1651</td>\n",
       "      <td>1561</td>\n",
       "      <td>1778</td>\n",
       "    </tr>\n",
       "    <tr>\n",
       "      <th>1</th>\n",
       "      <td>2403</td>\n",
       "      <td>2048</td>\n",
       "      <td>2087</td>\n",
       "      <td>2197</td>\n",
       "    </tr>\n",
       "    <tr>\n",
       "      <th>2</th>\n",
       "      <td>2119</td>\n",
       "      <td>1700</td>\n",
       "      <td>1815</td>\n",
       "      <td>2222</td>\n",
       "    </tr>\n",
       "    <tr>\n",
       "      <th>3</th>\n",
       "      <td>1645</td>\n",
       "      <td>1627</td>\n",
       "      <td>1110</td>\n",
       "      <td>1533</td>\n",
       "    </tr>\n",
       "    <tr>\n",
       "      <th>4</th>\n",
       "      <td>1976</td>\n",
       "      <td>1916</td>\n",
       "      <td>1614</td>\n",
       "      <td>1883</td>\n",
       "    </tr>\n",
       "  </tbody>\n",
       "</table>\n",
       "</div>"
      ],
      "text/plain": [
       "      0     1     2     3\n",
       "0  1889  1651  1561  1778\n",
       "1  2403  2048  2087  2197\n",
       "2  2119  1700  1815  2222\n",
       "3  1645  1627  1110  1533\n",
       "4  1976  1916  1614  1883"
      ]
     },
     "execution_count": 8,
     "metadata": {},
     "output_type": "execute_result"
    }
   ],
   "source": [
    "# 3. stiff 데이터 읽기\n",
    "\n",
    "stiff = pd.read_csv('stiff.dat', header=None, delim_whitespace=True)\n",
    "stiff.columns = [0,1,2,3,4]\n",
    "stiff_Adj = stiff.drop(4,axis = 1)\n",
    "stiff_Adj.head()"
   ]
  },
  {
   "cell_type": "code",
   "execution_count": 9,
   "metadata": {},
   "outputs": [
    {
     "name": "stdout",
     "output_type": "stream",
     "text": [
      "Simultaneous confidence interval : lower = 123.10266537479504, upper = 769.0973346252039\n"
     ]
    }
   ],
   "source": [
    "S = stiff_Adj.cov()\n",
    "a = np.array([1, 2, -1, -2])\n",
    "n = len(stiff_Adj)\n",
    "p = len(stiff_Adj.columns)\n",
    "alpha = 0.05\n",
    "F = f.ppf(1-alpha, p, n-p, loc=0, scale=1)\n",
    "\n",
    "lower = a.T @ stiff_Adj.mean() - np.sqrt( (((n-1)*p) / (n*(n-p))) * F * (a.T @ S @ a) )\n",
    "upper = a.T @ stiff_Adj.mean() + np.sqrt( (((n-1)*p) / (n*(n-p))) * F * (a.T @ S @ a) )\n",
    "\n",
    "print(\"Simultaneous confidence interval : lower = {}, upper = {}\".format(lower, upper))"
   ]
  },
  {
   "cell_type": "markdown",
   "metadata": {},
   "source": [
    "## b. Repeat (a) under large sample assumption (i.e. n-p is large enough)."
   ]
  },
  {
   "cell_type": "code",
   "execution_count": 10,
   "metadata": {},
   "outputs": [
    {
     "name": "stdout",
     "output_type": "stream",
     "text": [
      "Simultaneous confidence interval : lower = 161.68206247064114, upper = 730.5179375293578\n"
     ]
    }
   ],
   "source": [
    "from scipy.stats import chi2\n",
    "\n",
    "S = stiff_Adj.cov()\n",
    "a = np.array([1, 2, -1, -2])\n",
    "n = len(stiff_Adj)\n",
    "p = len(stiff_Adj.columns)\n",
    "alpha = 0.05\n",
    "Chi2 = chi2.ppf(1-alpha, 4, loc=0, scale=1)\n",
    "\n",
    "lower = a.T @ stiff_Adj.mean() - np.sqrt(Chi2) * np.sqrt( (a.T @ S @ a) / n )\n",
    "upper = a.T @ stiff_Adj.mean() + np.sqrt(Chi2) * np.sqrt( (a.T @ S @ a) / n )\n",
    "\n",
    "print(\"Simultaneous confidence interval : lower = {}, upper = {}\".format(lower, upper))"
   ]
  },
  {
   "cell_type": "markdown",
   "metadata": {},
   "source": [
    "## 4.Write a Python code to test the hypothesis"
   ]
  },
  {
   "cell_type": "code",
   "execution_count": 11,
   "metadata": {},
   "outputs": [],
   "source": [
    "def profile_analysis_test(sample, C, alpha):\n",
    "    \n",
    "    # Calculate T square & Test statistic\n",
    "    n = len(sample)\n",
    "    S = sample.cov()\n",
    "    sample_mean = sample.mean()\n",
    "    df1 = C.shape[0] \n",
    "    df2 = n - C.shape[0] \n",
    "    t2 = n * (C @ sample.mean()).T @ np.linalg.inv(C @ S @ C.T) @ (C @ sample.mean()) # T square\n",
    "    test_stat = t2 * ((n - df1) / ((n-1) * df1)) # Test statisitic\n",
    "    \n",
    "    # Calculate critical region\n",
    "    c_region = f.ppf(1-alpha, df1, df2, loc=0, scale=1) * ( ((n-1) * df1) / (n - df1) )\n",
    "    \n",
    "    # p-value\n",
    "    p_value = f.sf(test_stat, df1, df2)\n",
    "    \n",
    "    # Hypothesis Testing\n",
    "    if t2 > c_region :\n",
    "        print(\"Test statistic = {:.3f}\".format(test_stat))\n",
    "        print(\"t2 = {:.3f}\".format(t2))\n",
    "        print(\"p-value = {}\".format(p_value))\n",
    "        print(\"Reject the null hypothesis\")\n",
    "    else :\n",
    "        print(\"Test statistic = {:.3f}\".format(test_stat))\n",
    "        print(\"t2 = {:.3f}\".format(t2))\n",
    "        print(\"p-value = {}\".format(p_value))\n",
    "        print(\"Do not reject the null hypothesis\")"
   ]
  },
  {
   "cell_type": "markdown",
   "metadata": {},
   "source": [
    "## 5. Four measurements of the response stiffness on each of 30 boards are listed in data ‘stiff.dat’ (described in Table 4.3 of the textbook). The measures are repeated in the sense that they were made one after another."
   ]
  },
  {
   "cell_type": "markdown",
   "metadata": {},
   "source": [
    "## a. Perform a test for flat means using your Python code in #4."
   ]
  },
  {
   "cell_type": "code",
   "execution_count": 12,
   "metadata": {},
   "outputs": [
    {
     "name": "stdout",
     "output_type": "stream",
     "text": [
      "Test statistic = 79.051\n",
      "t2 = 254.721\n",
      "p-value = 1.7219150170540008e-13\n",
      "Reject the null hypothesis\n"
     ]
    }
   ],
   "source": [
    "# Flat mean testing\n",
    "\n",
    "C = np.array([[1,-1,0,0], [0,1,-1,0], [0,0,1,-1]])\n",
    "\n",
    "profile_analysis_test(stiff_Adj, C, 0.05)"
   ]
  },
  {
   "cell_type": "markdown",
   "metadata": {},
   "source": [
    "## b. Perform a test for linear trend using your Python code in #4."
   ]
  },
  {
   "cell_type": "code",
   "execution_count": 13,
   "metadata": {},
   "outputs": [
    {
     "name": "stdout",
     "output_type": "stream",
     "text": [
      "Test statistic = 87.080\n",
      "t2 = 180.380\n",
      "p-value = 9.560459481929117e-13\n",
      "Reject the null hypothesis\n"
     ]
    }
   ],
   "source": [
    "# Linear trend testing\n",
    "\n",
    "C = np.array([[1,-2,1,0], [0,1,-2, 1]])\n",
    "\n",
    "profile_analysis_test(stiff_Adj, C, 0.05)"
   ]
  },
  {
   "cell_type": "markdown",
   "metadata": {},
   "source": [
    "## c. Repeat (a) and (b) using a command in a Python package"
   ]
  },
  {
   "cell_type": "code",
   "execution_count": 14,
   "metadata": {},
   "outputs": [
    {
     "data": {
      "text/plain": [
       "<class 'statsmodels.stats.base.HolderTuple'>\n",
       "statistic = 79.05140875138369\n",
       "pvalue = 1.721915017054007e-13\n",
       "df = (3, 27)\n",
       "t2 = 254.72120597668078\n",
       "distr = 'F'\n",
       "tuple = (79.05140875138369, 1.721915017054007e-13)"
      ]
     },
     "execution_count": 14,
     "metadata": {},
     "output_type": "execute_result"
    }
   ],
   "source": [
    "# Profile Analysis\n",
    "\n",
    "C = pd.DataFrame([[1,-1,0,0], [0,1,-1,0], [0,0,1,-1]])\n",
    "flat = stiff_Adj.dot(C.T)\n",
    "flat.columns = [\"x0-x1\", \"x1-x2\", \"x2-x3\"]\n",
    "\n",
    "mv.test_mvmean(flat)"
   ]
  },
  {
   "cell_type": "code",
   "execution_count": 15,
   "metadata": {},
   "outputs": [
    {
     "data": {
      "text/plain": [
       "<class 'statsmodels.stats.base.HolderTuple'>\n",
       "statistic = 87.08000779315768\n",
       "pvalue = 9.560459481929198e-13\n",
       "df = (2, 28)\n",
       "t2 = 180.38001614296948\n",
       "distr = 'F'\n",
       "tuple = (87.08000779315768, 9.560459481929198e-13)"
      ]
     },
     "execution_count": 15,
     "metadata": {},
     "output_type": "execute_result"
    }
   ],
   "source": [
    "# Linear Trend\n",
    "\n",
    "C = pd.DataFrame([[1,-2,1,0], [0,1,-2, 1]])\n",
    "flat = stiff_Adj.dot(C.T)\n",
    "flat.columns = [\"x1-2*x2+x3\", \"x2-2*x3+x4\"]\n",
    "\n",
    "mv.test_mvmean(flat)"
   ]
  }
 ],
 "metadata": {
  "kernelspec": {
   "display_name": "Python 3",
   "language": "python",
   "name": "python3"
  },
  "language_info": {
   "codemirror_mode": {
    "name": "ipython",
    "version": 3
   },
   "file_extension": ".py",
   "mimetype": "text/x-python",
   "name": "python",
   "nbconvert_exporter": "python",
   "pygments_lexer": "ipython3",
   "version": "3.8.3"
  }
 },
 "nbformat": 4,
 "nbformat_minor": 5
}
