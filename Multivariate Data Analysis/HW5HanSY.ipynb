{
 "cells": [
  {
   "cell_type": "code",
   "execution_count": 1,
   "metadata": {},
   "outputs": [],
   "source": [
    "import numpy as np\n",
    "import pandas as pd\n",
    "from scipy.stats import f"
   ]
  },
  {
   "cell_type": "markdown",
   "metadata": {},
   "source": [
    "### 1. Measurements of stiffness and bending strength for a sample of 30 pieces of a particular grade of lumber are given in ‘lumber.dat’ (described in Table 5.11 of the textbook). Let's temporarily assume that the left and right sides of the table are samples of matched pairs."
   ]
  },
  {
   "cell_type": "code",
   "execution_count": 2,
   "metadata": {},
   "outputs": [],
   "source": [
    "lumber = pd.read_csv('lumber.dat', header=None, delim_whitespace=True)\n",
    "lumber.columns = ['x1','x2']"
   ]
  },
  {
   "cell_type": "markdown",
   "metadata": {},
   "source": [
    "### a. Perform a paired comparison using the subtraction technique and your python code in #1 of HW4."
   ]
  },
  {
   "cell_type": "code",
   "execution_count": 3,
   "metadata": {},
   "outputs": [],
   "source": [
    "# Testing을 위한 데이터 조정\n",
    "\n",
    "# Lab1과 Lab2 구분하기\n",
    "lab1 = lumber.loc[0:14,]\n",
    "lab2 = lumber.loc[15:29,].reset_index(drop = True)\n",
    "lumber_2 = pd.concat([lab1, lab2], axis = 1)\n",
    "\n",
    "# Lab1과 Lab2 사이의 변수들간 차이 구하기\n",
    "d1 = np.array(lab1['x1'] - lab2['x1'])\n",
    "d2 = np.array(lab1['x2'] - lab2['x2'])\n",
    "diff = pd.DataFrame({\"d1\" : d1, \"d2\" : d2})"
   ]
  },
  {
   "cell_type": "code",
   "execution_count": 4,
   "metadata": {},
   "outputs": [],
   "source": [
    "# Use code in HW4, #1\n",
    "\n",
    "def hotelling_t_test(data, u0, alpha):  # u0 : null hypothesis  / # alpha : significance level\n",
    "    \n",
    "    # Calculate Hotelling's T square and Test statisitc\n",
    "    n = len(data)\n",
    "    p = len(data.columns)\n",
    "    sample_mean_v = data.mean()\n",
    "    mean_diff = sample_mean_v - u0\n",
    "    cov_v = data.cov()\n",
    "    cov_inv = np.linalg.inv(cov_v)\n",
    "    T_square = len(data) * (mean_diff.T @ cov_inv @ mean_diff)\n",
    "    Test_stat = T_square * ((n-p) / ((n-1)*p))\n",
    "    \n",
    "    # Calculate critical region\n",
    "    c_region = f.ppf(1-alpha, p, n-p, loc=0, scale=1)\n",
    "    \n",
    "    # p-value\n",
    "    p_value = f.sf(Test_stat, p, n-p)\n",
    "    \n",
    "    # Hypothesis Testing\n",
    "    if Test_stat > c_region :\n",
    "        print(\"Test Statistic = {:.3f}\".format(Test_stat))\n",
    "        print(\"p-value = {}\".format(p_value))\n",
    "        print(\"Hotelling's T^2 = {:.3f}\".format(T_square))\n",
    "        print(\"Reject the null hypothesis\")\n",
    "    else :\n",
    "        print(\"Test Statistic = {:.3f}\".format(Test_stat))\n",
    "        print(\"p-value = {}\".format(p_value))\n",
    "        print(\"Hotelling's T^2 = {:.3f}\".format(T_square))\n",
    "        print(\"Do not reject the null hypothesis\")"
   ]
  },
  {
   "cell_type": "code",
   "execution_count": 5,
   "metadata": {},
   "outputs": [
    {
     "name": "stdout",
     "output_type": "stream",
     "text": [
      "Test Statistic = 1.270\n",
      "p-value = 0.3135310532015403\n",
      "Hotelling's T^2 = 2.735\n",
      "Do not reject the null hypothesis\n"
     ]
    }
   ],
   "source": [
    "# Testing 결과\n",
    "\n",
    "alpha = 0.05\n",
    "u0 = [0,0]\n",
    "hotelling_t_test(diff, u0, alpha)"
   ]
  },
  {
   "cell_type": "markdown",
   "metadata": {},
   "source": [
    "### b. Find the simultaneous confidence interval for 𝛿_1."
   ]
  },
  {
   "cell_type": "code",
   "execution_count": 6,
   "metadata": {},
   "outputs": [
    {
     "name": "stdout",
     "output_type": "stream",
     "text": [
      "Simultaneous confidence interval : lower = -546.0898558358173, upper = 159.2898558358173\n"
     ]
    }
   ],
   "source": [
    "data = diff[['d1']]\n",
    "n = len(diff)\n",
    "p = len(diff.columns)\n",
    "S = data.var()\n",
    "alpha = 0.05\n",
    "F = f.ppf(1-alpha, p, n-p, loc=0, scale=1)\n",
    "\n",
    "lower = data.mean() - np.sqrt( (((n-1)*p) / (n-p)) * F * (S / n) )\n",
    "upper = data.mean() + np.sqrt( (((n-1)*p) / (n-p)) * F * (S / n) )\n",
    "\n",
    "print(\"Simultaneous confidence interval : lower = {}, upper = {}\".format(lower[0], upper[0]))"
   ]
  },
  {
   "cell_type": "markdown",
   "metadata": {},
   "source": [
    "### c. Perform a paired comparison using your python code in #4 of HW4. (I.e., do not use subtraction)."
   ]
  },
  {
   "cell_type": "code",
   "execution_count": 7,
   "metadata": {},
   "outputs": [],
   "source": [
    "# Pyhton code in #4 of HW4\n",
    "\n",
    "def profile_analysis_test(sample, C, alpha):\n",
    "    \n",
    "    # Calculate T square & Test statistic\n",
    "    n = len(sample)\n",
    "    S = sample.cov()\n",
    "    sample_mean = sample.mean()\n",
    "    df1 = C.shape[0] \n",
    "    df2 = n - C.shape[0] \n",
    "    t2 = n * (C @ sample.mean()).T @ np.linalg.inv(C @ S @ C.T) @ (C @ sample.mean()) # T square\n",
    "    test_stat = t2 * ((n - df1) / ((n-1) * df1)) # Test statisitic\n",
    "    \n",
    "    # Calculate critical region\n",
    "    c_region = f.ppf(1-alpha, df1, df2, loc=0, scale=1) * ( ((n-1) * df1) / (n - df1) )\n",
    "    \n",
    "    # p-value\n",
    "    p_value = f.sf(test_stat, df1, df2)\n",
    "    \n",
    "    # Hypothesis Testing\n",
    "    if t2 > c_region :\n",
    "        print(\"Test statistic = {:.3f}\".format(test_stat))\n",
    "        print(\"t2 = {:.3f}\".format(t2))\n",
    "        print(\"p-value = {}\".format(p_value))\n",
    "        print(\"Reject the null hypothesis\")\n",
    "    else :\n",
    "        print(\"Test statistic = {:.3f}\".format(test_stat))\n",
    "        print(\"t2 = {:.3f}\".format(t2))\n",
    "        print(\"p-value = {}\".format(p_value))\n",
    "        print(\"Do not reject the null hypothesis\")"
   ]
  },
  {
   "cell_type": "code",
   "execution_count": 8,
   "metadata": {},
   "outputs": [
    {
     "name": "stdout",
     "output_type": "stream",
     "text": [
      "Test statistic = 1.270\n",
      "t2 = 2.735\n",
      "p-value = 0.31353105320153973\n",
      "Do not reject the null hypothesis\n"
     ]
    }
   ],
   "source": [
    "# Testing\n",
    "\n",
    "a = np.identity(2)\n",
    "b= -np.identity(2)\n",
    "C = np.hstack((a,b))\n",
    "alpha = 0.05\n",
    "profile_analysis_test(lumber_2, C, alpha)"
   ]
  },
  {
   "cell_type": "markdown",
   "metadata": {},
   "source": [
    "### 2. Write a Python code to test the hypothesis"
   ]
  },
  {
   "cell_type": "code",
   "execution_count": 9,
   "metadata": {},
   "outputs": [],
   "source": [
    "def two_sample_comparision(df1, df2, alpha) :\n",
    "    n1 = len(df1)\n",
    "    n2 = len(df2)\n",
    "    df1_mean = df1.mean()\n",
    "    df2_mean = df2.mean()\n",
    "    S1 = df1.cov()\n",
    "    S2 = df2.cov()\n",
    "    S_p = ( (n1-1)*S1 + (n2-1)*S2 ) / ( n1 + n2 - 2 ) # Assume equal variance\n",
    "    p = S_p.shape[0]\n",
    "    alpha = alpha # parameter\n",
    "\n",
    "    t2 = ( (n1*n2) / (n1+n2) ) * (df1_mean - df2_mean).T @ np.linalg.inv(S_p) @ (df1_mean - df2_mean)\n",
    "    test_stat = ( (n1+n2-p-1) / (p*(n1+n2-2)) ) * t2\n",
    "\n",
    "     # Calculate critical region\n",
    "    c_region = f.ppf(1-alpha, p, n1+n2-p-1, loc=0, scale=1)\n",
    "\n",
    "    # p-value\n",
    "    p_value = f.sf(test_stat, p, n1+n2-p-1)\n",
    "\n",
    "    # Hypothesis Testing\n",
    "    if test_stat > c_region :\n",
    "        print(\"Test statistic = {:.3f}\".format(test_stat))\n",
    "        print(\"t2 = {:.3f}\".format(t2))\n",
    "        print(\"p-value = {}\".format(p_value))\n",
    "        print(\"Reject the null hypothesis\")\n",
    "    else :\n",
    "        print(\"Test statistic = {:.3f}\".format(test_stat))\n",
    "        print(\"t2 = {:.3f}\".format(t2))\n",
    "        print(\"p-value = {}\".format(p_value))\n",
    "        print(\"Do not reject the null hypothesis\")"
   ]
  },
  {
   "cell_type": "markdown",
   "metadata": {},
   "source": [
    "### 3. Table 6.9 contains measurements on the carapaces of 24 female and 24 male turtles. The data is in file ‘turtle.dat’. Assume equal covariances."
   ]
  },
  {
   "cell_type": "markdown",
   "metadata": {},
   "source": [
    "### a. Test the equality of the two population mean vectors at 𝛼 = 0.05. (Use your code in #2 above)"
   ]
  },
  {
   "cell_type": "code",
   "execution_count": 10,
   "metadata": {},
   "outputs": [],
   "source": [
    "# 데이터 불러오기\n",
    "\n",
    "turtle = pd.read_csv('turtle.dat', header=None, delim_whitespace=True)\n",
    "turtle.columns = ['t1', 't2', 't3', 'sex']\n",
    "\n",
    "# 남녀 데이터셋 나누기\n",
    "\n",
    "turtle_female = turtle[turtle['sex'] == \"female\"][['t1', 't2', 't3']].reset_index(drop = True)\n",
    "turtle_male = turtle[turtle['sex'] == \"male\"][['t1', 't2', 't3']].reset_index(drop = True)"
   ]
  },
  {
   "cell_type": "code",
   "execution_count": 11,
   "metadata": {},
   "outputs": [
    {
     "name": "stdout",
     "output_type": "stream",
     "text": [
      "Test statistic = 23.078\n",
      "t2 = 72.382\n",
      "p-value = 3.96672641348487e-09\n",
      "Reject the null hypothesis\n"
     ]
    }
   ],
   "source": [
    "# Testing\n",
    "\n",
    "two_sample_comparision(turtle_male, turtle_female, 0.05)"
   ]
  },
  {
   "cell_type": "markdown",
   "metadata": {},
   "source": [
    "### b. Determine the lengths and directions for the axes of the 95% confidence ellipsoid for u1-u2."
   ]
  },
  {
   "cell_type": "code",
   "execution_count": 12,
   "metadata": {},
   "outputs": [
    {
     "name": "stdout",
     "output_type": "stream",
     "text": [
      "Direction for Axes 1 : [-0.82017422 -0.54070785 -0.18694725]\n",
      "Direction for Axes 2 : [-0.49543231  0.83467139 -0.24056286]\n",
      "Direction for Axes 3 : [-0.28611374  0.10468375  0.9524601 ]\n",
      "Length of the confidence region : [35.844691855894354, 3.922499387311902, 2.684579712752479]\n"
     ]
    }
   ],
   "source": [
    "S1 = turtle_female.cov()\n",
    "S2 = turtle_male.cov()\n",
    "n1 = len(turtle_female)\n",
    "n2 = len(turtle_male)\n",
    "p = len(turtle_female.columns)\n",
    "\n",
    "S_p = ( (n1-1)*S1 + (n2-1)*S2 ) / ( n1 + n2 - 2 )\n",
    "eigvals, eigvecs = np.linalg.eig(S_p)\n",
    "F = f.ppf(1-alpha, p, n1+n2-p-1, loc=0, scale=1)\n",
    "c_square = ( (p * (n1+n2-2)) / (n1+n2-p-1) ) * F\n",
    "\n",
    "# Direction of the condfidence region : eigenvectors of pooled var-cov matrix\n",
    "for i in range(len(turtle_male.columns)):\n",
    "    print(\"Direction for Axes {} : {}\".format(i+1, eigvecs[i]))\n",
    "    \n",
    "\n",
    "# Length of the confidence region\n",
    "length_list = []\n",
    "for i in range(len(turtle_male.columns)):\n",
    "    length = np.sqrt(eigvals[i]) * np.sqrt( (1/n1 + 1/n2) * c_square ) * 2\n",
    "    length_list.append(length)\n",
    "print(\"Length of the confidence region : {}\".format(length_list))"
   ]
  },
  {
   "cell_type": "markdown",
   "metadata": {},
   "source": [
    "### c. Find the 95% simultaneous confidence intervals for the component mean differences."
   ]
  },
  {
   "cell_type": "code",
   "execution_count": 13,
   "metadata": {},
   "outputs": [
    {
     "name": "stdout",
     "output_type": "stream",
     "text": [
      "Simultaneous C.I. for mean difference of t1 : [7.93,37.41]\n",
      "Simultaneous C.I. for mean difference of t2 : [5.26,23.33]\n",
      "Simultaneous C.I. for mean difference of t3 : [6.04,16.62]\n"
     ]
    }
   ],
   "source": [
    "lower_list = []\n",
    "upper_list = []\n",
    "for i in range(3):\n",
    "    lower = (turtle_female.mean()[i] - turtle_male.mean()[i]) - np.sqrt(c_square) * np.sqrt((1/n1 + 1/n2) * S_p.iloc[i,i])\n",
    "    upper = (turtle_female.mean()[i] - turtle_male.mean()[i]) + np.sqrt(c_square) * np.sqrt((1/n1 + 1/n2) * S_p.iloc[i,i])\n",
    "    lower_list.append(lower)\n",
    "    upper_list.append(upper)\n",
    "\n",
    "    print(\"Simultaneous C.I. for mean difference of t{} : [{:.2f},{:.2f}]\".format(i+1, lower_list[i], upper_list[i]))"
   ]
  },
  {
   "cell_type": "markdown",
   "metadata": {},
   "source": [
    "### d. Find the 95% Bonferroni confidence intervals for the component mean differences.\n"
   ]
  },
  {
   "cell_type": "code",
   "execution_count": 14,
   "metadata": {},
   "outputs": [
    {
     "name": "stdout",
     "output_type": "stream",
     "text": [
      "Bonferroni C.I. for mean difference of t1 : [10.34,34.99]\n",
      "Bonferroni C.I. for mean difference of t2 : [6.74,21.84]\n",
      "Bonferroni C.I. for mean difference of t3 : [6.91,15.75]\n"
     ]
    }
   ],
   "source": [
    "from scipy.stats import t\n",
    "\n",
    "t = t.ppf(1-(alpha/(2*p)), n1+n2-2)\n",
    "\n",
    "lower_list = []\n",
    "upper_list = []\n",
    "for i in range(3):\n",
    "    lower = (turtle_female.mean()[i] - turtle_male.mean()[i]) - t * np.sqrt((1/n1 + 1/n2) * S_p.iloc[i,i])\n",
    "    upper = (turtle_female.mean()[i] - turtle_male.mean()[i]) + t * np.sqrt((1/n1 + 1/n2) * S_p.iloc[i,i])\n",
    "    lower_list.append(lower)\n",
    "    upper_list.append(upper)\n",
    "\n",
    "    print(\"Bonferroni C.I. for mean difference of t{} : [{:.2f},{:.2f}]\".format(i+1, lower_list[i], upper_list[i]))"
   ]
  },
  {
   "cell_type": "markdown",
   "metadata": {},
   "source": [
    "### e. Test the equality of the two population covariance matrices at 𝛼 = 0.05 using your own code."
   ]
  },
  {
   "cell_type": "code",
   "execution_count": 15,
   "metadata": {},
   "outputs": [
    {
     "name": "stdout",
     "output_type": "stream",
     "text": [
      "p-value = 0.0006716087\n",
      "Reject the null hypothesis\n"
     ]
    }
   ],
   "source": [
    "from scipy.stats import chi2\n",
    "from numpy import log as ln\n",
    "\n",
    "M = (n1+n2-2) * ln(np.linalg.det(S_p)) - (n1-1) * ln(np.linalg.det(S1)) - (n2-1) * ln(np.linalg.det(S2))\n",
    "C_inverse = 1 - ( ( (2*(p**2) + 3*p -1) / (6*(p+1)) ) * ( (n1+n2-2) / ((n1-1)*(n2-1)) - (1 / (n1+n2-2)) ) )\n",
    "\n",
    "df = (p*(p+1)) / 2\n",
    "\n",
    "# Calculate critical region\n",
    "c_region = chi2.ppf(1-alpha, df)\n",
    "\n",
    "# p-value\n",
    "p_value = chi2.sf(M*C_inverse, df)\n",
    "\n",
    "\n",
    "# Hypothesis Testing\n",
    "if M*C_inverse > c_region :\n",
    "    print(\"p-value = {:.10f}\".format(p_value))\n",
    "    print(\"Reject the null hypothesis\")\n",
    "else :\n",
    "    print(\"p-value = {}\".format(p_value))\n",
    "    print(\"Do not reject the null hypothesis\")"
   ]
  },
  {
   "cell_type": "markdown",
   "metadata": {},
   "source": [
    "### f. Test the equality of the two population covariance matrices at 𝛼 = 0.05 using the Python package."
   ]
  },
  {
   "cell_type": "code",
   "execution_count": 16,
   "metadata": {},
   "outputs": [
    {
     "data": {
      "text/plain": [
       "<class 'statsmodels.stats.base.HolderTuple'>\n",
       "statistic = 3.8991762550674824\n",
       "pvalue = 0.000678623715197216\n",
       "statistic_base = 25.18423464462336\n",
       "statistic_chi2 = 23.404913718644536\n",
       "pvalue_chi2 = 0.0006716086888199255\n",
       "df_chi2 = 6.0\n",
       "distr_chi2 = 'chi2'\n",
       "statistic_f = 3.8991762550674824\n",
       "pvalue_f = 0.000678623715197216\n",
       "df_f = (6.0, 15331.018867924493)\n",
       "distr_f = 'F'\n",
       "tuple = (3.8991762550674824, 0.000678623715197216)"
      ]
     },
     "execution_count": 16,
     "metadata": {},
     "output_type": "execute_result"
    }
   ],
   "source": [
    "from statsmodels.stats import multivariate as mv\n",
    "mv.test_cov_oneway([S1, S2], [24,24])"
   ]
  }
 ],
 "metadata": {
  "kernelspec": {
   "display_name": "Python 3",
   "language": "python",
   "name": "python3"
  },
  "language_info": {
   "codemirror_mode": {
    "name": "ipython",
    "version": 3
   },
   "file_extension": ".py",
   "mimetype": "text/x-python",
   "name": "python",
   "nbconvert_exporter": "python",
   "pygments_lexer": "ipython3",
   "version": "3.8.3"
  }
 },
 "nbformat": 4,
 "nbformat_minor": 5
}
