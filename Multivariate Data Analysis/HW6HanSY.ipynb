{
 "cells": [
  {
   "cell_type": "markdown",
   "metadata": {},
   "source": [
    "## 1.Write a Python code to test the hypothesis"
   ]
  },
  {
   "cell_type": "code",
   "execution_count": 1,
   "metadata": {},
   "outputs": [],
   "source": [
    "import numpy as np\n",
    "import pandas as pd\n",
    "from scipy.stats import f"
   ]
  },
  {
   "cell_type": "code",
   "execution_count": 2,
   "metadata": {},
   "outputs": [],
   "source": [
    "def profile_analysis(df1, df2, alpha, C) :\n",
    "    n1 = len(df1)\n",
    "    n2 = len(df2)\n",
    "    df1_mean = df1.mean()\n",
    "    df2_mean = df2.mean()\n",
    "    S1 = df1.cov()\n",
    "    S2 = df2.cov()\n",
    "    S_p = ( (n1-1)*S1 + (n2-1)*S2 ) / ( n1 + n2 - 2 ) # Assume equal variance\n",
    "    q = C.shape[0] \n",
    "    alpha = alpha # parameter\n",
    "    \n",
    "    \n",
    "    t2 = (df1_mean - df2_mean).T @ C.T @ np.linalg.inv( (1/n1 + 1/n2) * C @ S_p @ C.T ) @ C @ (df1_mean - df2_mean)\n",
    "    test_stat = ( (n1+n2-q-1) / (q*(n1+n2-2)) ) * t2\n",
    "\n",
    "     # Calculate critical region\n",
    "    c_region = f.ppf(1-alpha, q, n1+n2-q-1, loc=0, scale=1)\n",
    "\n",
    "    # p-value\n",
    "    p_value = f.sf(test_stat, q, n1+n2-q-1)\n",
    "\n",
    "    # Hypothesis Testing\n",
    "    if test_stat > c_region :\n",
    "        print(\"Test statistic = {:.3f}\".format(test_stat))\n",
    "        print(\"t2 = {:.3f}\".format(t2))\n",
    "        print(\"p-value = {}\".format(p_value))\n",
    "        print(\"Reject the null hypothesis\")\n",
    "    else :\n",
    "        print(\"Test statistic = {:.3f}\".format(test_stat))\n",
    "        print(\"t2 = {:.3f}\".format(t2))\n",
    "        print(\"p-value = {}\".format(p_value))\n",
    "        print(\"Do not reject the null hypothesis\")"
   ]
  },
  {
   "cell_type": "markdown",
   "metadata": {},
   "source": [
    "## 2. Table 6.9 contains measurements on the carapaces of 24 female and 24 male turtles. The data is in file ‘turtle.dat’."
   ]
  },
  {
   "cell_type": "code",
   "execution_count": 3,
   "metadata": {},
   "outputs": [],
   "source": [
    "# 데이터 불러오기\n",
    "\n",
    "turtle = pd.read_csv('turtle.dat', header=None, delim_whitespace=True)\n",
    "turtle.columns = ['t1', 't2', 't3', 'sex']\n",
    "\n",
    "# 남녀 데이터셋 나누기\n",
    "\n",
    "turtle_female = turtle[turtle['sex'] == \"female\"][['t1', 't2', 't3']].reset_index(drop = True)\n",
    "turtle_male = turtle[turtle['sex'] == \"male\"][['t1', 't2', 't3']].reset_index(drop = True)"
   ]
  },
  {
   "cell_type": "markdown",
   "metadata": {},
   "source": [
    "### a. Are the profiles parallel? (Use your code in #1)"
   ]
  },
  {
   "cell_type": "code",
   "execution_count": 5,
   "metadata": {},
   "outputs": [
    {
     "name": "stdout",
     "output_type": "stream",
     "text": [
      "Test statistic = 7.544\n",
      "t2 = 15.423\n",
      "p-value = 0.0014947765346784248\n",
      "Reject the null hypothesis\n"
     ]
    }
   ],
   "source": [
    "C = np.array([[1,-1,0], [0,1,-1]])\n",
    "profile_analysis(turtle_female, turtle_male, 0.05, C)"
   ]
  },
  {
   "cell_type": "markdown",
   "metadata": {},
   "source": [
    "### b. Are the profiles coincident? (Use your code in #1)"
   ]
  },
  {
   "cell_type": "code",
   "execution_count": 6,
   "metadata": {},
   "outputs": [
    {
     "name": "stdout",
     "output_type": "stream",
     "text": [
      "Test statistic = 24.965\n",
      "t2 = 24.965\n",
      "p-value = 8.894702339275939e-06\n",
      "Reject the null hypothesis\n"
     ]
    }
   ],
   "source": [
    "C = np.array([1,1,1])\n",
    "C = C.reshape([1,3])\n",
    "\n",
    "profile_analysis(turtle_female, turtle_male, 0.05, C)"
   ]
  },
  {
   "cell_type": "markdown",
   "metadata": {},
   "source": [
    "### c. Repeat (a) and (b) using Python packages."
   ]
  },
  {
   "cell_type": "code",
   "execution_count": 7,
   "metadata": {},
   "outputs": [
    {
     "data": {
      "text/html": [
       "<div>\n",
       "<style scoped>\n",
       "    .dataframe tbody tr th:only-of-type {\n",
       "        vertical-align: middle;\n",
       "    }\n",
       "\n",
       "    .dataframe tbody tr th {\n",
       "        vertical-align: top;\n",
       "    }\n",
       "\n",
       "    .dataframe thead th {\n",
       "        text-align: right;\n",
       "    }\n",
       "</style>\n",
       "<table border=\"1\" class=\"dataframe\">\n",
       "  <thead>\n",
       "    <tr style=\"text-align: right;\">\n",
       "      <th></th>\n",
       "      <th>t12</th>\n",
       "      <th>t23</th>\n",
       "      <th>sex</th>\n",
       "    </tr>\n",
       "  </thead>\n",
       "  <tbody>\n",
       "    <tr>\n",
       "      <th>0</th>\n",
       "      <td>17</td>\n",
       "      <td>43</td>\n",
       "      <td>female</td>\n",
       "    </tr>\n",
       "    <tr>\n",
       "      <th>1</th>\n",
       "      <td>19</td>\n",
       "      <td>46</td>\n",
       "      <td>female</td>\n",
       "    </tr>\n",
       "    <tr>\n",
       "      <th>2</th>\n",
       "      <td>17</td>\n",
       "      <td>44</td>\n",
       "      <td>female</td>\n",
       "    </tr>\n",
       "    <tr>\n",
       "      <th>3</th>\n",
       "      <td>19</td>\n",
       "      <td>44</td>\n",
       "      <td>female</td>\n",
       "    </tr>\n",
       "    <tr>\n",
       "      <th>4</th>\n",
       "      <td>21</td>\n",
       "      <td>44</td>\n",
       "      <td>female</td>\n",
       "    </tr>\n",
       "  </tbody>\n",
       "</table>\n",
       "</div>"
      ],
      "text/plain": [
       "   t12  t23     sex\n",
       "0   17   43  female\n",
       "1   19   46  female\n",
       "2   17   44  female\n",
       "3   19   44  female\n",
       "4   21   44  female"
      ]
     },
     "execution_count": 7,
     "metadata": {},
     "output_type": "execute_result"
    }
   ],
   "source": [
    "# 데이터 가공\n",
    "\n",
    "diff = turtle.drop(['sex'], axis = 1)\n",
    "diff.columns = [0,1,2]\n",
    "C = pd.DataFrame([[1,-1,0], [0,1,-1]])\n",
    "\n",
    "diff_F = diff.dot(C.T)\n",
    "diff_F.columns = ['t12', 't23']\n",
    "\n",
    "para = diff_F.join(pd.DataFrame(turtle['sex']))\n",
    "para.head()"
   ]
  },
  {
   "cell_type": "code",
   "execution_count": 8,
   "metadata": {},
   "outputs": [
    {
     "name": "stdout",
     "output_type": "stream",
     "text": [
      "                   Multivariate linear model\n",
      "===============================================================\n",
      "                                                               \n",
      "---------------------------------------------------------------\n",
      "       Intercept         Value  Num DF  Den DF  F Value  Pr > F\n",
      "---------------------------------------------------------------\n",
      "          Wilks' lambda  0.0175 2.0000 45.0000 1260.1630 0.0000\n",
      "         Pillai's trace  0.9825 2.0000 45.0000 1260.1630 0.0000\n",
      " Hotelling-Lawley trace 56.0072 2.0000 45.0000 1260.1630 0.0000\n",
      "    Roy's greatest root 56.0072 2.0000 45.0000 1260.1630 0.0000\n",
      "---------------------------------------------------------------\n",
      "                                                               \n",
      "---------------------------------------------------------------\n",
      "             sex           Value  Num DF  Den DF F Value Pr > F\n",
      "---------------------------------------------------------------\n",
      "             Wilks' lambda 0.7489 2.0000 45.0000  7.5439 0.0015\n",
      "            Pillai's trace 0.2511 2.0000 45.0000  7.5439 0.0015\n",
      "    Hotelling-Lawley trace 0.3353 2.0000 45.0000  7.5439 0.0015\n",
      "       Roy's greatest root 0.3353 2.0000 45.0000  7.5439 0.0015\n",
      "===============================================================\n",
      "\n"
     ]
    }
   ],
   "source": [
    "# (a) Are the profiles parallel?\n",
    "\n",
    "from statsmodels.multivariate.manova import MANOVA\n",
    "\n",
    "maov = MANOVA.from_formula('t12 + t23 ~ sex', data = para)\n",
    "print(maov.mv_test())"
   ]
  },
  {
   "cell_type": "code",
   "execution_count": 9,
   "metadata": {},
   "outputs": [],
   "source": [
    "# (b) Are the profiles coincident?\n",
    "\n",
    "from scipy import stats\n",
    "from scipy.stats import ttest_ind"
   ]
  },
  {
   "cell_type": "code",
   "execution_count": 10,
   "metadata": {},
   "outputs": [],
   "source": [
    "# univariate t1+t2+t3\n",
    "\n",
    "female = turtle[turtle['sex'] == 'female'].iloc[:, :3].sum(axis = 1)\n",
    "male = turtle[turtle['sex'] == 'male'].iloc[:, :3].sum(axis = 1)"
   ]
  },
  {
   "cell_type": "code",
   "execution_count": 11,
   "metadata": {},
   "outputs": [
    {
     "data": {
      "text/plain": [
       "LeveneResult(statistic=6.045379899395555, pvalue=0.017766075695295522)"
      ]
     },
     "execution_count": 11,
     "metadata": {},
     "output_type": "execute_result"
    }
   ],
   "source": [
    "# (1) Equal variance test\n",
    "stats.levene(female, male)\n",
    "\n",
    "# p value가 0.05보다 작으므로 등분산 가정 성립하지 않음."
   ]
  },
  {
   "cell_type": "code",
   "execution_count": 12,
   "metadata": {},
   "outputs": [
    {
     "data": {
      "text/plain": [
       "Ttest_indResult(statistic=4.996482809354179, pvalue=8.894702339275784e-06)"
      ]
     },
     "execution_count": 12,
     "metadata": {},
     "output_type": "execute_result"
    }
   ],
   "source": [
    "# (2) t-test\n",
    "stats.ttest_ind(female, male, equal_var = True)"
   ]
  },
  {
   "cell_type": "markdown",
   "metadata": {},
   "source": [
    "### d. Test the equality of the two population mean vectors at a=0.05 using oneway MANOVA approach (use the Python package)."
   ]
  },
  {
   "cell_type": "code",
   "execution_count": 13,
   "metadata": {},
   "outputs": [
    {
     "name": "stdout",
     "output_type": "stream",
     "text": [
      "                   Multivariate linear model\n",
      "===============================================================\n",
      "                                                               \n",
      "---------------------------------------------------------------\n",
      "       Intercept         Value  Num DF  Den DF  F Value  Pr > F\n",
      "---------------------------------------------------------------\n",
      "          Wilks' lambda  0.0144 3.0000 44.0000 1001.2534 0.0000\n",
      "         Pillai's trace  0.9856 3.0000 44.0000 1001.2534 0.0000\n",
      " Hotelling-Lawley trace 68.2673 3.0000 44.0000 1001.2534 0.0000\n",
      "    Roy's greatest root 68.2673 3.0000 44.0000 1001.2534 0.0000\n",
      "---------------------------------------------------------------\n",
      "                                                               \n",
      "---------------------------------------------------------------\n",
      "             sex           Value  Num DF  Den DF F Value Pr > F\n",
      "---------------------------------------------------------------\n",
      "             Wilks' lambda 0.3886 3.0000 44.0000 23.0782 0.0000\n",
      "            Pillai's trace 0.6114 3.0000 44.0000 23.0782 0.0000\n",
      "    Hotelling-Lawley trace 1.5735 3.0000 44.0000 23.0782 0.0000\n",
      "       Roy's greatest root 1.5735 3.0000 44.0000 23.0782 0.0000\n",
      "===============================================================\n",
      "\n"
     ]
    }
   ],
   "source": [
    "maov = MANOVA.from_formula('t1+t2+t3 ~ sex', data = turtle)\n",
    "print(maov.mv_test())"
   ]
  }
 ],
 "metadata": {
  "kernelspec": {
   "display_name": "Python 3",
   "language": "python",
   "name": "python3"
  },
  "language_info": {
   "codemirror_mode": {
    "name": "ipython",
    "version": 3
   },
   "file_extension": ".py",
   "mimetype": "text/x-python",
   "name": "python",
   "nbconvert_exporter": "python",
   "pygments_lexer": "ipython3",
   "version": "3.8.3"
  }
 },
 "nbformat": 4,
 "nbformat_minor": 4
}
