{
 "cells": [
  {
   "cell_type": "code",
   "execution_count": 1,
   "metadata": {},
   "outputs": [],
   "source": [
    "import pandas as pd\n",
    "import numpy as np\n",
    "import matplotlib.pyplot as plt"
   ]
  },
  {
   "cell_type": "markdown",
   "metadata": {},
   "source": [
    "## 1. Write a Python code to implement a Factor analysis with the following features."
   ]
  },
  {
   "cell_type": "code",
   "execution_count": 2,
   "metadata": {},
   "outputs": [],
   "source": [
    "# Principal component method on correlation matrix\n",
    "\n",
    "def pcm(corr):\n",
    "    eigenValues, eigenVectors = np.linalg.eig(corr)\n",
    "    idx = eigenValues.argsort()[::-1]   \n",
    "    eigenValues = eigenValues[idx]\n",
    "    eigenVectors = eigenVectors[:,idx]\n",
    "    return eigenValues, eigenVectors"
   ]
  },
  {
   "cell_type": "code",
   "execution_count": 3,
   "metadata": {},
   "outputs": [],
   "source": [
    "# scree plot\n",
    "\n",
    "def scree_plot(eigen_value) :\n",
    "    eigval = pd.DataFrame()\n",
    "    eigval['Eigenvalue'] = eigen_value\n",
    "    eigval['Proportion'] = eigval['Eigenvalue'] / len(eigval)\n",
    "    eigval['Cumulative'] = eigval['Proportion'].cumsum(axis=0)\n",
    "    eigval\n",
    "    \n",
    "    plt.title('Scree Plot of Eigenvalues')\n",
    "    plt.xlabel('Number')\n",
    "    plt.plot(eigenValues, 'o-')\n",
    "    plt.show()"
   ]
  },
  {
   "cell_type": "code",
   "execution_count": 4,
   "metadata": {},
   "outputs": [],
   "source": [
    "# Factor loading matrix\n",
    "\n",
    "def factor_loading_matrix(m, eigenValues, eigenVectors, corr) :\n",
    "\n",
    "    loadings = pd.DataFrame(np.sqrt(eigenValues[0:m]) * eigenVectors[:, 0:m])\n",
    "    columns = []\n",
    "    for i in range(len(loadings.columns)) :\n",
    "        name = \"Factor\"+str(i+1)\n",
    "        columns.append(name)\n",
    "    loadings.columns = columns\n",
    "    loadings.index = corr.columns\n",
    "    return np.round(loadings, 2)"
   ]
  },
  {
   "cell_type": "code",
   "execution_count": 5,
   "metadata": {},
   "outputs": [],
   "source": [
    "# Communality\n",
    "\n",
    "def communality(corr):\n",
    "    L = factor_loading_matrix(2, eigenValues, eigenVectors, corr)\n",
    "\n",
    "    commu = pd.DataFrame()\n",
    "    commu['communality'] = np.diag(L @ L.T)\n",
    "    commu.index = corr.columns\n",
    "    return commu"
   ]
  },
  {
   "cell_type": "markdown",
   "metadata": {},
   "source": [
    "## The weekly rates of return for five stocks listed on the New York Stock Exchange are given in 'stock.dat'. Use your Python code in #1 to answer the following questions."
   ]
  },
  {
   "cell_type": "code",
   "execution_count": 6,
   "metadata": {},
   "outputs": [
    {
     "data": {
      "text/html": [
       "<div>\n",
       "<style scoped>\n",
       "    .dataframe tbody tr th:only-of-type {\n",
       "        vertical-align: middle;\n",
       "    }\n",
       "\n",
       "    .dataframe tbody tr th {\n",
       "        vertical-align: top;\n",
       "    }\n",
       "\n",
       "    .dataframe thead th {\n",
       "        text-align: right;\n",
       "    }\n",
       "</style>\n",
       "<table border=\"1\" class=\"dataframe\">\n",
       "  <thead>\n",
       "    <tr style=\"text-align: right;\">\n",
       "      <th></th>\n",
       "      <th>Allied_Chemical</th>\n",
       "      <th>du_Pont</th>\n",
       "      <th>Union_Carbide</th>\n",
       "      <th>Exxon</th>\n",
       "      <th>Texaco</th>\n",
       "    </tr>\n",
       "  </thead>\n",
       "  <tbody>\n",
       "    <tr>\n",
       "      <th>0</th>\n",
       "      <td>0.000000</td>\n",
       "      <td>0.000000</td>\n",
       "      <td>0.000000</td>\n",
       "      <td>0.039473</td>\n",
       "      <td>-0.000000</td>\n",
       "    </tr>\n",
       "    <tr>\n",
       "      <th>1</th>\n",
       "      <td>0.027027</td>\n",
       "      <td>-0.044855</td>\n",
       "      <td>-0.003030</td>\n",
       "      <td>-0.014466</td>\n",
       "      <td>0.043478</td>\n",
       "    </tr>\n",
       "    <tr>\n",
       "      <th>2</th>\n",
       "      <td>0.122807</td>\n",
       "      <td>0.060773</td>\n",
       "      <td>0.088146</td>\n",
       "      <td>0.086238</td>\n",
       "      <td>0.078124</td>\n",
       "    </tr>\n",
       "    <tr>\n",
       "      <th>3</th>\n",
       "      <td>0.057031</td>\n",
       "      <td>0.029948</td>\n",
       "      <td>0.066808</td>\n",
       "      <td>0.013513</td>\n",
       "      <td>0.019512</td>\n",
       "    </tr>\n",
       "    <tr>\n",
       "      <th>4</th>\n",
       "      <td>0.063670</td>\n",
       "      <td>-0.003793</td>\n",
       "      <td>-0.039788</td>\n",
       "      <td>-0.018644</td>\n",
       "      <td>-0.024154</td>\n",
       "    </tr>\n",
       "    <tr>\n",
       "      <th>...</th>\n",
       "      <td>...</td>\n",
       "      <td>...</td>\n",
       "      <td>...</td>\n",
       "      <td>...</td>\n",
       "      <td>...</td>\n",
       "    </tr>\n",
       "    <tr>\n",
       "      <th>95</th>\n",
       "      <td>0.000000</td>\n",
       "      <td>-0.020080</td>\n",
       "      <td>-0.006579</td>\n",
       "      <td>0.029925</td>\n",
       "      <td>-0.004807</td>\n",
       "    </tr>\n",
       "    <tr>\n",
       "      <th>96</th>\n",
       "      <td>0.021429</td>\n",
       "      <td>0.049180</td>\n",
       "      <td>0.006622</td>\n",
       "      <td>-0.002421</td>\n",
       "      <td>0.028985</td>\n",
       "    </tr>\n",
       "    <tr>\n",
       "      <th>97</th>\n",
       "      <td>0.045454</td>\n",
       "      <td>0.046375</td>\n",
       "      <td>0.074561</td>\n",
       "      <td>0.014563</td>\n",
       "      <td>0.018779</td>\n",
       "    </tr>\n",
       "    <tr>\n",
       "      <th>98</th>\n",
       "      <td>0.050167</td>\n",
       "      <td>0.036380</td>\n",
       "      <td>0.004082</td>\n",
       "      <td>-0.011961</td>\n",
       "      <td>0.009216</td>\n",
       "    </tr>\n",
       "    <tr>\n",
       "      <th>99</th>\n",
       "      <td>0.019108</td>\n",
       "      <td>-0.033303</td>\n",
       "      <td>0.008362</td>\n",
       "      <td>0.033898</td>\n",
       "      <td>0.004566</td>\n",
       "    </tr>\n",
       "  </tbody>\n",
       "</table>\n",
       "<p>100 rows × 5 columns</p>\n",
       "</div>"
      ],
      "text/plain": [
       "    Allied_Chemical   du_Pont  Union_Carbide     Exxon    Texaco\n",
       "0          0.000000  0.000000       0.000000  0.039473 -0.000000\n",
       "1          0.027027 -0.044855      -0.003030 -0.014466  0.043478\n",
       "2          0.122807  0.060773       0.088146  0.086238  0.078124\n",
       "3          0.057031  0.029948       0.066808  0.013513  0.019512\n",
       "4          0.063670 -0.003793      -0.039788 -0.018644 -0.024154\n",
       "..              ...       ...            ...       ...       ...\n",
       "95         0.000000 -0.020080      -0.006579  0.029925 -0.004807\n",
       "96         0.021429  0.049180       0.006622 -0.002421  0.028985\n",
       "97         0.045454  0.046375       0.074561  0.014563  0.018779\n",
       "98         0.050167  0.036380       0.004082 -0.011961  0.009216\n",
       "99         0.019108 -0.033303       0.008362  0.033898  0.004566\n",
       "\n",
       "[100 rows x 5 columns]"
      ]
     },
     "execution_count": 6,
     "metadata": {},
     "output_type": "execute_result"
    }
   ],
   "source": [
    "# 데이터 불러오기\n",
    "stock = pd.read_csv('stock.dat', header = None, delim_whitespace=True)\n",
    "stock.columns = ['Allied_Chemical','du_Pont','Union_Carbide','Exxon','Texaco']\n",
    "stock"
   ]
  },
  {
   "cell_type": "code",
   "execution_count": 7,
   "metadata": {},
   "outputs": [
    {
     "data": {
      "text/html": [
       "<div>\n",
       "<style scoped>\n",
       "    .dataframe tbody tr th:only-of-type {\n",
       "        vertical-align: middle;\n",
       "    }\n",
       "\n",
       "    .dataframe tbody tr th {\n",
       "        vertical-align: top;\n",
       "    }\n",
       "\n",
       "    .dataframe thead th {\n",
       "        text-align: right;\n",
       "    }\n",
       "</style>\n",
       "<table border=\"1\" class=\"dataframe\">\n",
       "  <thead>\n",
       "    <tr style=\"text-align: right;\">\n",
       "      <th></th>\n",
       "      <th>Allied_Chemical</th>\n",
       "      <th>du_Pont</th>\n",
       "      <th>Union_Carbide</th>\n",
       "      <th>Exxon</th>\n",
       "      <th>Texaco</th>\n",
       "    </tr>\n",
       "  </thead>\n",
       "  <tbody>\n",
       "    <tr>\n",
       "      <th>Allied_Chemical</th>\n",
       "      <td>1.000000</td>\n",
       "      <td>0.576924</td>\n",
       "      <td>0.508656</td>\n",
       "      <td>0.386721</td>\n",
       "      <td>0.462178</td>\n",
       "    </tr>\n",
       "    <tr>\n",
       "      <th>du_Pont</th>\n",
       "      <td>0.576924</td>\n",
       "      <td>1.000000</td>\n",
       "      <td>0.598384</td>\n",
       "      <td>0.389519</td>\n",
       "      <td>0.321953</td>\n",
       "    </tr>\n",
       "    <tr>\n",
       "      <th>Union_Carbide</th>\n",
       "      <td>0.508656</td>\n",
       "      <td>0.598384</td>\n",
       "      <td>1.000000</td>\n",
       "      <td>0.436101</td>\n",
       "      <td>0.425627</td>\n",
       "    </tr>\n",
       "    <tr>\n",
       "      <th>Exxon</th>\n",
       "      <td>0.386721</td>\n",
       "      <td>0.389519</td>\n",
       "      <td>0.436101</td>\n",
       "      <td>1.000000</td>\n",
       "      <td>0.523529</td>\n",
       "    </tr>\n",
       "    <tr>\n",
       "      <th>Texaco</th>\n",
       "      <td>0.462178</td>\n",
       "      <td>0.321953</td>\n",
       "      <td>0.425627</td>\n",
       "      <td>0.523529</td>\n",
       "      <td>1.000000</td>\n",
       "    </tr>\n",
       "  </tbody>\n",
       "</table>\n",
       "</div>"
      ],
      "text/plain": [
       "                 Allied_Chemical   du_Pont  Union_Carbide     Exxon    Texaco\n",
       "Allied_Chemical         1.000000  0.576924       0.508656  0.386721  0.462178\n",
       "du_Pont                 0.576924  1.000000       0.598384  0.389519  0.321953\n",
       "Union_Carbide           0.508656  0.598384       1.000000  0.436101  0.425627\n",
       "Exxon                   0.386721  0.389519       0.436101  1.000000  0.523529\n",
       "Texaco                  0.462178  0.321953       0.425627  0.523529  1.000000"
      ]
     },
     "execution_count": 7,
     "metadata": {},
     "output_type": "execute_result"
    }
   ],
   "source": [
    "# Correlation matrix 구하기\n",
    "\n",
    "corr = stock.corr()\n",
    "corr"
   ]
  },
  {
   "cell_type": "markdown",
   "metadata": {},
   "source": [
    "## A. Perform a factor analysis on the sample correlation matrix."
   ]
  },
  {
   "cell_type": "code",
   "execution_count": 8,
   "metadata": {},
   "outputs": [
    {
     "name": "stdout",
     "output_type": "stream",
     "text": [
      "eigenvalues : [2.85648688 0.8091185  0.54004398 0.45134682 0.34300382]\n",
      "eigenvectors : [[ 0.46354054  0.24084986  0.61335698 -0.38137266  0.45328757]\n",
      " [ 0.45707636  0.5090997  -0.17789962 -0.21130679 -0.67498139]\n",
      " [ 0.46998043  0.26057743 -0.33703554  0.66409849  0.39572471]\n",
      " [ 0.42167703 -0.52526472 -0.53901809 -0.47280364  0.17944825]\n",
      " [ 0.42132914 -0.58224156  0.4336029   0.3812273  -0.38746715]]\n"
     ]
    }
   ],
   "source": [
    "eigenValues, eigenVectors = pcm(corr)\n",
    "print(\"eigenvalues : {}\".format(eigenValues))\n",
    "print(\"eigenvectors : {}\".format(eigenVectors))"
   ]
  },
  {
   "cell_type": "markdown",
   "metadata": {},
   "source": [
    "## B. How many factors are required to describe adequately the space in which these data fall?"
   ]
  },
  {
   "cell_type": "code",
   "execution_count": 9,
   "metadata": {},
   "outputs": [
    {
     "data": {
      "image/png": "[encoded data removed]",
      "text/plain": [
       "<Figure size 432x288 with 1 Axes>"
      ]
     },
     "metadata": {
      "needs_background": "light"
     },
     "output_type": "display_data"
    }
   ],
   "source": [
    "scree_plot(eigenValues)"
   ]
  },
  {
   "cell_type": "markdown",
   "metadata": {},
   "source": [
    "## C. Obtain the factor loading matrix."
   ]
  },
  {
   "cell_type": "code",
   "execution_count": 10,
   "metadata": {},
   "outputs": [
    {
     "data": {
      "text/html": [
       "<div>\n",
       "<style scoped>\n",
       "    .dataframe tbody tr th:only-of-type {\n",
       "        vertical-align: middle;\n",
       "    }\n",
       "\n",
       "    .dataframe tbody tr th {\n",
       "        vertical-align: top;\n",
       "    }\n",
       "\n",
       "    .dataframe thead th {\n",
       "        text-align: right;\n",
       "    }\n",
       "</style>\n",
       "<table border=\"1\" class=\"dataframe\">\n",
       "  <thead>\n",
       "    <tr style=\"text-align: right;\">\n",
       "      <th></th>\n",
       "      <th>Factor1</th>\n",
       "      <th>Factor2</th>\n",
       "    </tr>\n",
       "  </thead>\n",
       "  <tbody>\n",
       "    <tr>\n",
       "      <th>Allied_Chemical</th>\n",
       "      <td>0.78</td>\n",
       "      <td>0.22</td>\n",
       "    </tr>\n",
       "    <tr>\n",
       "      <th>du_Pont</th>\n",
       "      <td>0.77</td>\n",
       "      <td>0.46</td>\n",
       "    </tr>\n",
       "    <tr>\n",
       "      <th>Union_Carbide</th>\n",
       "      <td>0.79</td>\n",
       "      <td>0.23</td>\n",
       "    </tr>\n",
       "    <tr>\n",
       "      <th>Exxon</th>\n",
       "      <td>0.71</td>\n",
       "      <td>-0.47</td>\n",
       "    </tr>\n",
       "    <tr>\n",
       "      <th>Texaco</th>\n",
       "      <td>0.71</td>\n",
       "      <td>-0.52</td>\n",
       "    </tr>\n",
       "  </tbody>\n",
       "</table>\n",
       "</div>"
      ],
      "text/plain": [
       "                 Factor1  Factor2\n",
       "Allied_Chemical     0.78     0.22\n",
       "du_Pont             0.77     0.46\n",
       "Union_Carbide       0.79     0.23\n",
       "Exxon               0.71    -0.47\n",
       "Texaco              0.71    -0.52"
      ]
     },
     "execution_count": 10,
     "metadata": {},
     "output_type": "execute_result"
    }
   ],
   "source": [
    "factor_loading_matrix(2, eigenValues, eigenVectors, corr)"
   ]
  },
  {
   "cell_type": "markdown",
   "metadata": {},
   "source": [
    "## D. Obtain the communality of each variable."
   ]
  },
  {
   "cell_type": "code",
   "execution_count": 11,
   "metadata": {},
   "outputs": [
    {
     "data": {
      "text/html": [
       "<div>\n",
       "<style scoped>\n",
       "    .dataframe tbody tr th:only-of-type {\n",
       "        vertical-align: middle;\n",
       "    }\n",
       "\n",
       "    .dataframe tbody tr th {\n",
       "        vertical-align: top;\n",
       "    }\n",
       "\n",
       "    .dataframe thead th {\n",
       "        text-align: right;\n",
       "    }\n",
       "</style>\n",
       "<table border=\"1\" class=\"dataframe\">\n",
       "  <thead>\n",
       "    <tr style=\"text-align: right;\">\n",
       "      <th></th>\n",
       "      <th>communality</th>\n",
       "    </tr>\n",
       "  </thead>\n",
       "  <tbody>\n",
       "    <tr>\n",
       "      <th>Allied_Chemical</th>\n",
       "      <td>0.6568</td>\n",
       "    </tr>\n",
       "    <tr>\n",
       "      <th>du_Pont</th>\n",
       "      <td>0.8045</td>\n",
       "    </tr>\n",
       "    <tr>\n",
       "      <th>Union_Carbide</th>\n",
       "      <td>0.6770</td>\n",
       "    </tr>\n",
       "    <tr>\n",
       "      <th>Exxon</th>\n",
       "      <td>0.7250</td>\n",
       "    </tr>\n",
       "    <tr>\n",
       "      <th>Texaco</th>\n",
       "      <td>0.7745</td>\n",
       "    </tr>\n",
       "  </tbody>\n",
       "</table>\n",
       "</div>"
      ],
      "text/plain": [
       "                 communality\n",
       "Allied_Chemical       0.6568\n",
       "du_Pont               0.8045\n",
       "Union_Carbide         0.6770\n",
       "Exxon                 0.7250\n",
       "Texaco                0.7745"
      ]
     },
     "execution_count": 11,
     "metadata": {},
     "output_type": "execute_result"
    }
   ],
   "source": [
    "communality(corr)"
   ]
  },
  {
   "cell_type": "code",
   "execution_count": 12,
   "metadata": {},
   "outputs": [],
   "source": [
    "# Texaco : 석유, 천연가스, 석유화학\n",
    "# Exxon : 석유화학\n",
    "# Union Carbide : 화학 제품 (폴리머)\n",
    "# Du pont : 화학제품 (폴리머)\n",
    "# Allied_Chemical : 화학 제품\n",
    "\n",
    "# Factor 1 : 석유 화학 산업\n",
    "# Factor 2 : 업종 세분화 - 석유 / 화학\n",
    "\n"
   ]
  },
  {
   "cell_type": "markdown",
   "metadata": {},
   "source": [
    "## Use the 'factor_analyzer' package of Python to answer the questions below."
   ]
  },
  {
   "cell_type": "code",
   "execution_count": 13,
   "metadata": {},
   "outputs": [],
   "source": [
    "from factor_analyzer import FactorAnalyzer"
   ]
  },
  {
   "cell_type": "markdown",
   "metadata": {},
   "source": [
    "## F. Obtain the factor (before rotation) loading matrix using Minres method."
   ]
  },
  {
   "cell_type": "code",
   "execution_count": 14,
   "metadata": {},
   "outputs": [
    {
     "data": {
      "text/html": [
       "<style>#sk-container-id-1 {color: black;background-color: white;}#sk-container-id-1 pre{padding: 0;}#sk-container-id-1 div.sk-toggleable {background-color: white;}#sk-container-id-1 label.sk-toggleable__label {cursor: pointer;display: block;width: 100%;margin-bottom: 0;padding: 0.3em;box-sizing: border-box;text-align: center;}#sk-container-id-1 label.sk-toggleable__label-arrow:before {content: \"▸\";float: left;margin-right: 0.25em;color: #696969;}#sk-container-id-1 label.sk-toggleable__label-arrow:hover:before {color: black;}#sk-container-id-1 div.sk-estimator:hover label.sk-toggleable__label-arrow:before {color: black;}#sk-container-id-1 div.sk-toggleable__content {max-height: 0;max-width: 0;overflow: hidden;text-align: left;background-color: #f0f8ff;}#sk-container-id-1 div.sk-toggleable__content pre {margin: 0.2em;color: black;border-radius: 0.25em;background-color: #f0f8ff;}#sk-container-id-1 input.sk-toggleable__control:checked~div.sk-toggleable__content {max-height: 200px;max-width: 100%;overflow: auto;}#sk-container-id-1 input.sk-toggleable__control:checked~label.sk-toggleable__label-arrow:before {content: \"▾\";}#sk-container-id-1 div.sk-estimator input.sk-toggleable__control:checked~label.sk-toggleable__label {background-color: #d4ebff;}#sk-container-id-1 div.sk-label input.sk-toggleable__control:checked~label.sk-toggleable__label {background-color: #d4ebff;}#sk-container-id-1 input.sk-hidden--visually {border: 0;clip: rect(1px 1px 1px 1px);clip: rect(1px, 1px, 1px, 1px);height: 1px;margin: -1px;overflow: hidden;padding: 0;position: absolute;width: 1px;}#sk-container-id-1 div.sk-estimator {font-family: monospace;background-color: #f0f8ff;border: 1px dotted black;border-radius: 0.25em;box-sizing: border-box;margin-bottom: 0.5em;}#sk-container-id-1 div.sk-estimator:hover {background-color: #d4ebff;}#sk-container-id-1 div.sk-parallel-item::after {content: \"\";width: 100%;border-bottom: 1px solid gray;flex-grow: 1;}#sk-container-id-1 div.sk-label:hover label.sk-toggleable__label {background-color: #d4ebff;}#sk-container-id-1 div.sk-serial::before {content: \"\";position: absolute;border-left: 1px solid gray;box-sizing: border-box;top: 0;bottom: 0;left: 50%;z-index: 0;}#sk-container-id-1 div.sk-serial {display: flex;flex-direction: column;align-items: center;background-color: white;padding-right: 0.2em;padding-left: 0.2em;position: relative;}#sk-container-id-1 div.sk-item {position: relative;z-index: 1;}#sk-container-id-1 div.sk-parallel {display: flex;align-items: stretch;justify-content: center;background-color: white;position: relative;}#sk-container-id-1 div.sk-item::before, #sk-container-id-1 div.sk-parallel-item::before {content: \"\";position: absolute;border-left: 1px solid gray;box-sizing: border-box;top: 0;bottom: 0;left: 50%;z-index: -1;}#sk-container-id-1 div.sk-parallel-item {display: flex;flex-direction: column;z-index: 1;position: relative;background-color: white;}#sk-container-id-1 div.sk-parallel-item:first-child::after {align-self: flex-end;width: 50%;}#sk-container-id-1 div.sk-parallel-item:last-child::after {align-self: flex-start;width: 50%;}#sk-container-id-1 div.sk-parallel-item:only-child::after {width: 0;}#sk-container-id-1 div.sk-dashed-wrapped {border: 1px dashed gray;margin: 0 0.4em 0.5em 0.4em;box-sizing: border-box;padding-bottom: 0.4em;background-color: white;}#sk-container-id-1 div.sk-label label {font-family: monospace;font-weight: bold;display: inline-block;line-height: 1.2em;}#sk-container-id-1 div.sk-label-container {text-align: center;}#sk-container-id-1 div.sk-container {/* jupyter's `normalize.less` sets `[hidden] { display: none; }` but bootstrap.min.css set `[hidden] { display: none !important; }` so we also need the `!important` here to be able to override the default hidden behavior on the sphinx rendered scikit-learn.org. See: https://github.com/scikit-learn/scikit-learn/issues/21755 */display: inline-block !important;position: relative;}#sk-container-id-1 div.sk-text-repr-fallback {display: none;}</style><div id=\"sk-container-id-1\" class=\"sk-top-container\"><div class=\"sk-text-repr-fallback\"><pre>FactorAnalyzer(is_corr_matrix=True, n_factors=2, rotation=None,\n",
       "               rotation_kwargs={})</pre><b>In a Jupyter environment, please rerun this cell to show the HTML representation or trust the notebook. <br />On GitHub, the HTML representation is unable to render, please try loading this page with nbviewer.org.</b></div><div class=\"sk-container\" hidden><div class=\"sk-item\"><div class=\"sk-estimator sk-toggleable\"><input class=\"sk-toggleable__control sk-hidden--visually\" id=\"sk-estimator-id-1\" type=\"checkbox\" checked><label for=\"sk-estimator-id-1\" class=\"sk-toggleable__label sk-toggleable__label-arrow\">FactorAnalyzer</label><div class=\"sk-toggleable__content\"><pre>FactorAnalyzer(is_corr_matrix=True, n_factors=2, rotation=None,\n",
       "               rotation_kwargs={})</pre></div></div></div></div></div>"
      ],
      "text/plain": [
       "FactorAnalyzer(is_corr_matrix=True, n_factors=2, rotation=None,\n",
       "               rotation_kwargs={})"
      ]
     },
     "execution_count": 14,
     "metadata": {},
     "output_type": "execute_result"
    }
   ],
   "source": [
    "fa = FactorAnalyzer(n_factors=2, rotation=None, method='minres', is_corr_matrix=True)\n",
    "fa.fit(corr)"
   ]
  },
  {
   "cell_type": "code",
   "execution_count": 15,
   "metadata": {},
   "outputs": [
    {
     "data": {
      "text/html": [
       "<div>\n",
       "<style scoped>\n",
       "    .dataframe tbody tr th:only-of-type {\n",
       "        vertical-align: middle;\n",
       "    }\n",
       "\n",
       "    .dataframe tbody tr th {\n",
       "        vertical-align: top;\n",
       "    }\n",
       "\n",
       "    .dataframe thead th {\n",
       "        text-align: right;\n",
       "    }\n",
       "</style>\n",
       "<table border=\"1\" class=\"dataframe\">\n",
       "  <thead>\n",
       "    <tr style=\"text-align: right;\">\n",
       "      <th></th>\n",
       "      <th>Variance</th>\n",
       "      <th>Proportion</th>\n",
       "      <th>Cumulative</th>\n",
       "    </tr>\n",
       "  </thead>\n",
       "  <tbody>\n",
       "    <tr>\n",
       "      <th>Factor1</th>\n",
       "      <td>2.462669</td>\n",
       "      <td>0.492534</td>\n",
       "      <td>0.492534</td>\n",
       "    </tr>\n",
       "    <tr>\n",
       "      <th>Factor2</th>\n",
       "      <td>0.527965</td>\n",
       "      <td>0.105593</td>\n",
       "      <td>0.598127</td>\n",
       "    </tr>\n",
       "  </tbody>\n",
       "</table>\n",
       "</div>"
      ],
      "text/plain": [
       "         Variance  Proportion  Cumulative\n",
       "Factor1  2.462669    0.492534    0.492534\n",
       "Factor2  0.527965    0.105593    0.598127"
      ]
     },
     "execution_count": 15,
     "metadata": {},
     "output_type": "execute_result"
    }
   ],
   "source": [
    "# Factor Variances\n",
    "fvar = pd.DataFrame(fa.get_factor_variance()).T\n",
    "fvar.index = ['Factor1', 'Factor2']\n",
    "fvar.columns = ['Variance','Proportion','Cumulative']\n",
    "fvar"
   ]
  },
  {
   "cell_type": "code",
   "execution_count": 16,
   "metadata": {},
   "outputs": [
    {
     "data": {
      "text/html": [
       "<div>\n",
       "<style scoped>\n",
       "    .dataframe tbody tr th:only-of-type {\n",
       "        vertical-align: middle;\n",
       "    }\n",
       "\n",
       "    .dataframe tbody tr th {\n",
       "        vertical-align: top;\n",
       "    }\n",
       "\n",
       "    .dataframe thead th {\n",
       "        text-align: right;\n",
       "    }\n",
       "</style>\n",
       "<table border=\"1\" class=\"dataframe\">\n",
       "  <thead>\n",
       "    <tr style=\"text-align: right;\">\n",
       "      <th></th>\n",
       "      <th>Factor1</th>\n",
       "      <th>Factor2</th>\n",
       "    </tr>\n",
       "  </thead>\n",
       "  <tbody>\n",
       "    <tr>\n",
       "      <th>Allied_Chemical</th>\n",
       "      <td>0.696010</td>\n",
       "      <td>-0.096709</td>\n",
       "    </tr>\n",
       "    <tr>\n",
       "      <th>du_Pont</th>\n",
       "      <td>0.758582</td>\n",
       "      <td>-0.418575</td>\n",
       "    </tr>\n",
       "    <tr>\n",
       "      <th>Union_Carbide</th>\n",
       "      <td>0.715361</td>\n",
       "      <td>-0.146355</td>\n",
       "    </tr>\n",
       "    <tr>\n",
       "      <th>Exxon</th>\n",
       "      <td>0.606299</td>\n",
       "      <td>0.156562</td>\n",
       "    </tr>\n",
       "    <tr>\n",
       "      <th>Texaco</th>\n",
       "      <td>0.723501</td>\n",
       "      <td>0.545413</td>\n",
       "    </tr>\n",
       "  </tbody>\n",
       "</table>\n",
       "</div>"
      ],
      "text/plain": [
       "                  Factor1   Factor2\n",
       "Allied_Chemical  0.696010 -0.096709\n",
       "du_Pont          0.758582 -0.418575\n",
       "Union_Carbide    0.715361 -0.146355\n",
       "Exxon            0.606299  0.156562\n",
       "Texaco           0.723501  0.545413"
      ]
     },
     "execution_count": 16,
     "metadata": {},
     "output_type": "execute_result"
    }
   ],
   "source": [
    "# Factor Loadings\n",
    "loadings = pd.DataFrame(fa.loadings_, \n",
    "                        index = stock.columns, \n",
    "                        columns = ['Factor1', 'Factor2'])\n",
    "loadings"
   ]
  },
  {
   "cell_type": "code",
   "execution_count": 17,
   "metadata": {},
   "outputs": [
    {
     "data": {
      "text/html": [
       "<div>\n",
       "<style scoped>\n",
       "    .dataframe tbody tr th:only-of-type {\n",
       "        vertical-align: middle;\n",
       "    }\n",
       "\n",
       "    .dataframe tbody tr th {\n",
       "        vertical-align: top;\n",
       "    }\n",
       "\n",
       "    .dataframe thead th {\n",
       "        text-align: right;\n",
       "    }\n",
       "</style>\n",
       "<table border=\"1\" class=\"dataframe\">\n",
       "  <thead>\n",
       "    <tr style=\"text-align: right;\">\n",
       "      <th></th>\n",
       "      <th>Communality</th>\n",
       "    </tr>\n",
       "  </thead>\n",
       "  <tbody>\n",
       "    <tr>\n",
       "      <th>Allied_Chemical</th>\n",
       "      <td>0.493783</td>\n",
       "    </tr>\n",
       "    <tr>\n",
       "      <th>du_Pont</th>\n",
       "      <td>0.750651</td>\n",
       "    </tr>\n",
       "    <tr>\n",
       "      <th>Union_Carbide</th>\n",
       "      <td>0.533161</td>\n",
       "    </tr>\n",
       "    <tr>\n",
       "      <th>Exxon</th>\n",
       "      <td>0.392110</td>\n",
       "    </tr>\n",
       "    <tr>\n",
       "      <th>Texaco</th>\n",
       "      <td>0.820929</td>\n",
       "    </tr>\n",
       "  </tbody>\n",
       "</table>\n",
       "</div>"
      ],
      "text/plain": [
       "                 Communality\n",
       "Allied_Chemical     0.493783\n",
       "du_Pont             0.750651\n",
       "Union_Carbide       0.533161\n",
       "Exxon               0.392110\n",
       "Texaco              0.820929"
      ]
     },
     "execution_count": 17,
     "metadata": {},
     "output_type": "execute_result"
    }
   ],
   "source": [
    "# Communality\n",
    "pd.DataFrame(fa.get_communalities(), \n",
    "             index=stock.columns, \n",
    "             columns=['Communality'])"
   ]
  },
  {
   "cell_type": "code",
   "execution_count": 18,
   "metadata": {},
   "outputs": [
    {
     "data": {
      "image/png": "[encoded data removed]",
      "text/plain": [
       "<Figure size 360x288 with 1 Axes>"
      ]
     },
     "metadata": {
      "needs_background": "light"
     },
     "output_type": "display_data"
    }
   ],
   "source": [
    "# Preplot(Before Rotation)\n",
    "x = loadings.Factor1 ; y = loadings.Factor2\n",
    "plt.figure(figsize = (5,4))\n",
    "plt.title('Plot of Factor Pattern for Factor1 and Factor2')\n",
    "plt.xlabel('Factor1') ; plt.ylabel('Factor2')\n",
    "plt.scatter(x,y)\n",
    "for i in range(len(loadings)):\n",
    "    plt.text(x[i]-0.05, y[i]+0.05, loadings.index[i])\n",
    "plt.axvline(x = 0) ; plt.axhline(y = 0) \n",
    "plt.xlim(-0.5,1); plt.ylim(-1,1)\n",
    "plt.show()"
   ]
  },
  {
   "cell_type": "markdown",
   "metadata": {},
   "source": [
    "## G. Obtain the factor (after rotation) loading matrix using Minres method"
   ]
  },
  {
   "cell_type": "code",
   "execution_count": 19,
   "metadata": {},
   "outputs": [
    {
     "data": {
      "text/html": [
       "<style>#sk-container-id-2 {color: black;background-color: white;}#sk-container-id-2 pre{padding: 0;}#sk-container-id-2 div.sk-toggleable {background-color: white;}#sk-container-id-2 label.sk-toggleable__label {cursor: pointer;display: block;width: 100%;margin-bottom: 0;padding: 0.3em;box-sizing: border-box;text-align: center;}#sk-container-id-2 label.sk-toggleable__label-arrow:before {content: \"▸\";float: left;margin-right: 0.25em;color: #696969;}#sk-container-id-2 label.sk-toggleable__label-arrow:hover:before {color: black;}#sk-container-id-2 div.sk-estimator:hover label.sk-toggleable__label-arrow:before {color: black;}#sk-container-id-2 div.sk-toggleable__content {max-height: 0;max-width: 0;overflow: hidden;text-align: left;background-color: #f0f8ff;}#sk-container-id-2 div.sk-toggleable__content pre {margin: 0.2em;color: black;border-radius: 0.25em;background-color: #f0f8ff;}#sk-container-id-2 input.sk-toggleable__control:checked~div.sk-toggleable__content {max-height: 200px;max-width: 100%;overflow: auto;}#sk-container-id-2 input.sk-toggleable__control:checked~label.sk-toggleable__label-arrow:before {content: \"▾\";}#sk-container-id-2 div.sk-estimator input.sk-toggleable__control:checked~label.sk-toggleable__label {background-color: #d4ebff;}#sk-container-id-2 div.sk-label input.sk-toggleable__control:checked~label.sk-toggleable__label {background-color: #d4ebff;}#sk-container-id-2 input.sk-hidden--visually {border: 0;clip: rect(1px 1px 1px 1px);clip: rect(1px, 1px, 1px, 1px);height: 1px;margin: -1px;overflow: hidden;padding: 0;position: absolute;width: 1px;}#sk-container-id-2 div.sk-estimator {font-family: monospace;background-color: #f0f8ff;border: 1px dotted black;border-radius: 0.25em;box-sizing: border-box;margin-bottom: 0.5em;}#sk-container-id-2 div.sk-estimator:hover {background-color: #d4ebff;}#sk-container-id-2 div.sk-parallel-item::after {content: \"\";width: 100%;border-bottom: 1px solid gray;flex-grow: 1;}#sk-container-id-2 div.sk-label:hover label.sk-toggleable__label {background-color: #d4ebff;}#sk-container-id-2 div.sk-serial::before {content: \"\";position: absolute;border-left: 1px solid gray;box-sizing: border-box;top: 0;bottom: 0;left: 50%;z-index: 0;}#sk-container-id-2 div.sk-serial {display: flex;flex-direction: column;align-items: center;background-color: white;padding-right: 0.2em;padding-left: 0.2em;position: relative;}#sk-container-id-2 div.sk-item {position: relative;z-index: 1;}#sk-container-id-2 div.sk-parallel {display: flex;align-items: stretch;justify-content: center;background-color: white;position: relative;}#sk-container-id-2 div.sk-item::before, #sk-container-id-2 div.sk-parallel-item::before {content: \"\";position: absolute;border-left: 1px solid gray;box-sizing: border-box;top: 0;bottom: 0;left: 50%;z-index: -1;}#sk-container-id-2 div.sk-parallel-item {display: flex;flex-direction: column;z-index: 1;position: relative;background-color: white;}#sk-container-id-2 div.sk-parallel-item:first-child::after {align-self: flex-end;width: 50%;}#sk-container-id-2 div.sk-parallel-item:last-child::after {align-self: flex-start;width: 50%;}#sk-container-id-2 div.sk-parallel-item:only-child::after {width: 0;}#sk-container-id-2 div.sk-dashed-wrapped {border: 1px dashed gray;margin: 0 0.4em 0.5em 0.4em;box-sizing: border-box;padding-bottom: 0.4em;background-color: white;}#sk-container-id-2 div.sk-label label {font-family: monospace;font-weight: bold;display: inline-block;line-height: 1.2em;}#sk-container-id-2 div.sk-label-container {text-align: center;}#sk-container-id-2 div.sk-container {/* jupyter's `normalize.less` sets `[hidden] { display: none; }` but bootstrap.min.css set `[hidden] { display: none !important; }` so we also need the `!important` here to be able to override the default hidden behavior on the sphinx rendered scikit-learn.org. See: https://github.com/scikit-learn/scikit-learn/issues/21755 */display: inline-block !important;position: relative;}#sk-container-id-2 div.sk-text-repr-fallback {display: none;}</style><div id=\"sk-container-id-2\" class=\"sk-top-container\"><div class=\"sk-text-repr-fallback\"><pre>FactorAnalyzer(is_corr_matrix=True, n_factors=2, rotation=&#x27;varimax&#x27;,\n",
       "               rotation_kwargs={})</pre><b>In a Jupyter environment, please rerun this cell to show the HTML representation or trust the notebook. <br />On GitHub, the HTML representation is unable to render, please try loading this page with nbviewer.org.</b></div><div class=\"sk-container\" hidden><div class=\"sk-item\"><div class=\"sk-estimator sk-toggleable\"><input class=\"sk-toggleable__control sk-hidden--visually\" id=\"sk-estimator-id-2\" type=\"checkbox\" checked><label for=\"sk-estimator-id-2\" class=\"sk-toggleable__label sk-toggleable__label-arrow\">FactorAnalyzer</label><div class=\"sk-toggleable__content\"><pre>FactorAnalyzer(is_corr_matrix=True, n_factors=2, rotation=&#x27;varimax&#x27;,\n",
       "               rotation_kwargs={})</pre></div></div></div></div></div>"
      ],
      "text/plain": [
       "FactorAnalyzer(is_corr_matrix=True, n_factors=2, rotation='varimax',\n",
       "               rotation_kwargs={})"
      ]
     },
     "execution_count": 19,
     "metadata": {},
     "output_type": "execute_result"
    }
   ],
   "source": [
    "# Rotation Method: Varimax\n",
    "fa2 = FactorAnalyzer(n_factors=2, rotation='varimax', method='minres', is_corr_matrix=True)\n",
    "fa2.fit(corr)"
   ]
  },
  {
   "cell_type": "code",
   "execution_count": 20,
   "metadata": {},
   "outputs": [
    {
     "data": {
      "text/plain": [
       "array([[ 0.76844412,  0.63991689],\n",
       "       [-0.63991689,  0.76844412]])"
      ]
     },
     "execution_count": 20,
     "metadata": {},
     "output_type": "execute_result"
    }
   ],
   "source": [
    "# Orthogonal Transformation Matrix\n",
    "fa2.rotation_matrix_"
   ]
  },
  {
   "cell_type": "code",
   "execution_count": 21,
   "metadata": {},
   "outputs": [
    {
     "data": {
      "text/html": [
       "<div>\n",
       "<style scoped>\n",
       "    .dataframe tbody tr th:only-of-type {\n",
       "        vertical-align: middle;\n",
       "    }\n",
       "\n",
       "    .dataframe tbody tr th {\n",
       "        vertical-align: top;\n",
       "    }\n",
       "\n",
       "    .dataframe thead th {\n",
       "        text-align: right;\n",
       "    }\n",
       "</style>\n",
       "<table border=\"1\" class=\"dataframe\">\n",
       "  <thead>\n",
       "    <tr style=\"text-align: right;\">\n",
       "      <th></th>\n",
       "      <th>Factor1</th>\n",
       "      <th>Factor2</th>\n",
       "    </tr>\n",
       "  </thead>\n",
       "  <tbody>\n",
       "    <tr>\n",
       "      <th>Allied_Chemical</th>\n",
       "      <td>0.596731</td>\n",
       "      <td>0.371073</td>\n",
       "    </tr>\n",
       "    <tr>\n",
       "      <th>du_Pont</th>\n",
       "      <td>0.850781</td>\n",
       "      <td>0.163778</td>\n",
       "    </tr>\n",
       "    <tr>\n",
       "      <th>Union_Carbide</th>\n",
       "      <td>0.643369</td>\n",
       "      <td>0.345306</td>\n",
       "    </tr>\n",
       "    <tr>\n",
       "      <th>Exxon</th>\n",
       "      <td>0.365720</td>\n",
       "      <td>0.508290</td>\n",
       "    </tr>\n",
       "    <tr>\n",
       "      <th>Texaco</th>\n",
       "      <td>0.206951</td>\n",
       "      <td>0.882100</td>\n",
       "    </tr>\n",
       "  </tbody>\n",
       "</table>\n",
       "</div>"
      ],
      "text/plain": [
       "                  Factor1   Factor2\n",
       "Allied_Chemical  0.596731  0.371073\n",
       "du_Pont          0.850781  0.163778\n",
       "Union_Carbide    0.643369  0.345306\n",
       "Exxon            0.365720  0.508290\n",
       "Texaco           0.206951  0.882100"
      ]
     },
     "execution_count": 21,
     "metadata": {},
     "output_type": "execute_result"
    }
   ],
   "source": [
    "# Rotated Factor Pattern\n",
    "Rloadings = pd.DataFrame(fa2.loadings_, \n",
    "             index = stock.columns, \n",
    "             columns = ['Factor1', 'Factor2'])\n",
    "Rloadings"
   ]
  },
  {
   "cell_type": "code",
   "execution_count": 22,
   "metadata": {},
   "outputs": [
    {
     "data": {
      "image/png": "[encoded data removed]",
      "text/plain": [
       "<Figure size 432x288 with 1 Axes>"
      ]
     },
     "metadata": {
      "needs_background": "light"
     },
     "output_type": "display_data"
    }
   ],
   "source": [
    "# Plot(After Rotation)\n",
    "x = Rloadings.Factor1 ; y = Rloadings.Factor2\n",
    "plt.figure(figsize = (6,4))\n",
    "plt.title('Plot of Factor Pattern for Factor1 and Factor2')\n",
    "plt.xlabel('Factor1') ; plt.ylabel('Factor2')\n",
    "plt.scatter(x,y)\n",
    "for i in range(len(loadings)):\n",
    "    plt.text(x[i]-0.05, y[i]+0.05, Rloadings.index[i])\n",
    "plt.axvline(x = 0) ; plt.axhline(y = 0) \n",
    "plt.xlim(-0.5,1); plt.ylim(-0.8,1.2)\n",
    "plt.show()"
   ]
  },
  {
   "cell_type": "code",
   "execution_count": 23,
   "metadata": {},
   "outputs": [
    {
     "data": {
      "text/html": [
       "<div>\n",
       "<style scoped>\n",
       "    .dataframe tbody tr th:only-of-type {\n",
       "        vertical-align: middle;\n",
       "    }\n",
       "\n",
       "    .dataframe tbody tr th {\n",
       "        vertical-align: top;\n",
       "    }\n",
       "\n",
       "    .dataframe thead th {\n",
       "        text-align: right;\n",
       "    }\n",
       "</style>\n",
       "<table border=\"1\" class=\"dataframe\">\n",
       "  <thead>\n",
       "    <tr style=\"text-align: right;\">\n",
       "      <th></th>\n",
       "      <th>Variance</th>\n",
       "      <th>Proportion</th>\n",
       "      <th>Cumulative</th>\n",
       "    </tr>\n",
       "  </thead>\n",
       "  <tbody>\n",
       "    <tr>\n",
       "      <th>Factor1</th>\n",
       "      <td>1.670420</td>\n",
       "      <td>0.334084</td>\n",
       "      <td>0.334084</td>\n",
       "    </tr>\n",
       "    <tr>\n",
       "      <th>Factor2</th>\n",
       "      <td>1.320214</td>\n",
       "      <td>0.264043</td>\n",
       "      <td>0.598127</td>\n",
       "    </tr>\n",
       "  </tbody>\n",
       "</table>\n",
       "</div>"
      ],
      "text/plain": [
       "         Variance  Proportion  Cumulative\n",
       "Factor1  1.670420    0.334084    0.334084\n",
       "Factor2  1.320214    0.264043    0.598127"
      ]
     },
     "execution_count": 23,
     "metadata": {},
     "output_type": "execute_result"
    }
   ],
   "source": [
    "# Factor Variances\n",
    "fvar = pd.DataFrame(fa2.get_factor_variance()).T\n",
    "fvar.index = ['Factor1', 'Factor2']\n",
    "fvar.columns = ['Variance','Proportion','Cumulative']\n",
    "fvar"
   ]
  },
  {
   "cell_type": "markdown",
   "metadata": {},
   "source": [
    "## H. Obtain the communalities (after rotation) of each variable."
   ]
  },
  {
   "cell_type": "code",
   "execution_count": 24,
   "metadata": {},
   "outputs": [
    {
     "data": {
      "text/html": [
       "<div>\n",
       "<style scoped>\n",
       "    .dataframe tbody tr th:only-of-type {\n",
       "        vertical-align: middle;\n",
       "    }\n",
       "\n",
       "    .dataframe tbody tr th {\n",
       "        vertical-align: top;\n",
       "    }\n",
       "\n",
       "    .dataframe thead th {\n",
       "        text-align: right;\n",
       "    }\n",
       "</style>\n",
       "<table border=\"1\" class=\"dataframe\">\n",
       "  <thead>\n",
       "    <tr style=\"text-align: right;\">\n",
       "      <th></th>\n",
       "      <th>Communality</th>\n",
       "    </tr>\n",
       "  </thead>\n",
       "  <tbody>\n",
       "    <tr>\n",
       "      <th>Allied_Chemical</th>\n",
       "      <td>0.493783</td>\n",
       "    </tr>\n",
       "    <tr>\n",
       "      <th>du_Pont</th>\n",
       "      <td>0.750651</td>\n",
       "    </tr>\n",
       "    <tr>\n",
       "      <th>Union_Carbide</th>\n",
       "      <td>0.533161</td>\n",
       "    </tr>\n",
       "    <tr>\n",
       "      <th>Exxon</th>\n",
       "      <td>0.392110</td>\n",
       "    </tr>\n",
       "    <tr>\n",
       "      <th>Texaco</th>\n",
       "      <td>0.820929</td>\n",
       "    </tr>\n",
       "  </tbody>\n",
       "</table>\n",
       "</div>"
      ],
      "text/plain": [
       "                 Communality\n",
       "Allied_Chemical     0.493783\n",
       "du_Pont             0.750651\n",
       "Union_Carbide       0.533161\n",
       "Exxon               0.392110\n",
       "Texaco              0.820929"
      ]
     },
     "execution_count": 24,
     "metadata": {},
     "output_type": "execute_result"
    }
   ],
   "source": [
    "# Communality\n",
    "pd.DataFrame(fa2.get_communalities(), \n",
    "             index=stock.columns, \n",
    "             columns=['Communality'])"
   ]
  },
  {
   "cell_type": "markdown",
   "metadata": {},
   "source": [
    "## I. Identify the underlying characteristics of each factor."
   ]
  }
 ],
 "metadata": {
  "kernelspec": {
   "display_name": "Python 3",
   "language": "python",
   "name": "python3"
  },
  "language_info": {
   "codemirror_mode": {
    "name": "ipython",
    "version": 3
   },
   "file_extension": ".py",
   "mimetype": "text/x-python",
   "name": "python",
   "nbconvert_exporter": "python",
   "pygments_lexer": "ipython3",
   "version": "3.8.3"
  }
 },
 "nbformat": 4,
 "nbformat_minor": 4
}
